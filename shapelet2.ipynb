{
 "cells": [
  {
   "cell_type": "code",
   "execution_count": 1,
   "metadata": {},
   "outputs": [],
   "source": [
    "# Importation \n",
    "import glob\n",
    "import numpy as np\n",
    "import pandas as pd\n",
    "import seaborn as sns\n",
    "import os\n",
    "import openpyxl\n",
    "from tsfresh import extract_features, select_features\n",
    "directory = os.getcwd()"
   ]
  },
  {
   "attachments": {},
   "cell_type": "markdown",
   "metadata": {},
   "source": [
    "# Pré-processing"
   ]
  },
  {
   "cell_type": "code",
   "execution_count": 2,
   "metadata": {},
   "outputs": [
    {
     "name": "stdout",
     "output_type": "stream",
     "text": [
      "              parcelle       date  ndvi campagne\n",
      "date                                            \n",
      "2022-05-10         222 2022-05-10  3255     2022\n",
      "2022-06-14         222 2022-06-14  7444     2022\n",
      "2022-06-19         222 2022-06-19  6815     2022\n",
      "2022-07-14         222 2022-07-14  5632     2022\n",
      "2022-07-24         222 2022-07-24  4573     2022\n",
      "...                ...        ...   ...      ...\n",
      "2022-08-17  tivillers8 2022-08-17  2002     2022\n",
      "2022-08-20  tivillers8 2022-08-20  2106     2022\n",
      "2022-08-22  tivillers8 2022-08-22  1807     2022\n",
      "2022-08-25  tivillers8 2022-08-25  1835     2022\n",
      "2022-08-30  tivillers8 2022-08-30  2051     2022\n",
      "\n",
      "[650 rows x 4 columns]\n",
      "            Unnamed: 0     parcelle       date  ndvi  NDVI_et campagne\n",
      "date                                                                  \n",
      "2022-04-05           2     aubiet11 2022-04-05  1616      969     2022\n",
      "2022-04-10           3     aubiet11 2022-04-10  1765      900     2022\n",
      "2022-04-25           4     aubiet11 2022-04-25  2428     1003     2022\n",
      "2022-04-30           5     aubiet11 2022-04-30  1998      551     2022\n",
      "2022-05-10           6     aubiet11 2022-05-10  1692     1001     2022\n",
      "...                ...          ...        ...   ...      ...      ...\n",
      "2020-08-06        1437  209gers2020 2020-08-06  5720     1453     2020\n",
      "2020-08-08        1438  209gers2020 2020-08-08  5398     1398     2020\n",
      "2020-08-16        1439  209gers2020 2020-08-16  5589     1162     2020\n",
      "2020-08-21        1440  209gers2020 2020-08-21  5652     1356     2020\n",
      "2020-08-26        1441  209gers2020 2020-08-26  5812     1179     2020\n",
      "\n",
      "[1440 rows x 6 columns]\n"
     ]
    }
   ],
   "source": [
    "# Importation données NDVI\n",
    "donnees = pd.read_csv(f\"{directory}/donnees/resultats-2.csv\", sep = \";\", parse_dates = [\"date\"], dayfirst = True)\n",
    "donnees2 = pd.read_csv(f\"{directory}/donnees/resultats_new.csv\", sep = \";\", parse_dates = [\"date\"], dayfirst = True)\n",
    "\n",
    "# Typage des colonnes\n",
    "donnees['parcelle'] = donnees['parcelle'].astype('string')\n",
    "donnees[\"parcelle\"] = donnees[\"parcelle\"].map(lambda x:x.replace('_','').lower())\n",
    "donnees.columns = donnees.columns.str.replace('NDVI_moy', 'ndvi')\n",
    "donnees = donnees.set_index('date', drop = False)\n",
    "\n",
    "donnees2['parcelle'] = donnees2['parcelle'].astype('string')\n",
    "donnees2[\"parcelle\"] = donnees2[\"parcelle\"].map(lambda x:x.replace('_','').lower())\n",
    "donnees2.columns = donnees2.columns.str.replace('NDVI_moy', 'ndvi')\n",
    "donnees2 = donnees2.set_index('date', drop = False)\n",
    "\n",
    "donnees[\"campagne\"] = donnees[\"date\"].dt.year # on utilise cette colonne campagne pour les jointures pr récup le peuplement et le précédent\n",
    "donnees['campagne'] = donnees['campagne'].astype('string')\n",
    "\n",
    "donnees2[\"campagne\"] = donnees2[\"date\"].dt.year # on utilise cette colonne campagne pour les jointures pr récup le peuplement et le précédent\n",
    "donnees2['campagne'] = donnees2['campagne'].astype('string')\n",
    "\n",
    "print(donnees)\n",
    "print(donnees2)"
   ]
  },
  {
   "cell_type": "code",
   "execution_count": 3,
   "metadata": {},
   "outputs": [
    {
     "name": "stdout",
     "output_type": "stream",
     "text": [
      "       parcelle       date  ndvi campagne  peuplement\n",
      "0           222 2022-05-10  3255     2022         NaN\n",
      "1           222 2022-06-14  7444     2022         NaN\n",
      "2           222 2022-06-19  6815     2022         NaN\n",
      "3           222 2022-07-14  5632     2022         NaN\n",
      "4           222 2022-07-24  4573     2022         NaN\n",
      "..          ...        ...   ...      ...         ...\n",
      "645  tivillers8 2022-08-17  2002     2022     82000.0\n",
      "646  tivillers8 2022-08-20  2106     2022     82000.0\n",
      "647  tivillers8 2022-08-22  1807     2022     82000.0\n",
      "648  tivillers8 2022-08-25  1835     2022     82000.0\n",
      "649  tivillers8 2022-08-30  2051     2022     82000.0\n",
      "\n",
      "[650 rows x 5 columns]\n"
     ]
    }
   ],
   "source": [
    "peuplement_1 = pd.read_excel(f\"{directory}/donnees/peuplement/donnees2022_BA-2.xlsx\", engine='openpyxl', parse_dates = [\"date\"])\n",
    "peuplement_1 = peuplement_1.loc[:,[\"parcelle\",\"date\",\"peuplement\"]]\n",
    "\n",
    "peuplement_2 = pd.read_excel(f\"{directory}/donnees/peuplement/Placette_TRN22_beauce.xlsx\", engine='openpyxl', parse_dates = [\"date_obs\"])\n",
    "peuplement_2 = peuplement_2.loc[:,[\"numero_parcelle\",\"date_obs\",\"peuplement\"]]\n",
    "peuplement_2.columns = peuplement_2.columns.str.replace('numero_parcelle', 'parcelle')\n",
    "peuplement_2.columns = peuplement_2.columns.str.replace('date_obs','date')\n",
    "peuplement_2 = peuplement_2[peuplement_2[\"parcelle\"] != \"80_22\"] # la dernière ligne a un NA dans col peuplement\n",
    "\n",
    "peuplement = peuplement_1.merge(peuplement_2)\n",
    "peuplement = pd.concat([peuplement_1, peuplement_2], axis = 0, ignore_index = True)\n",
    "peuplement[\"parcelle\"] = peuplement[\"parcelle\"].map(lambda x:x.replace('_','').lower())\n",
    "peuplement['parcelle'] = peuplement['parcelle'].astype('string')\n",
    "peuplement = peuplement.groupby([\"parcelle\"]).agg({\"date\":[\"first\"], \"peuplement\":[\"mean\"]})\n",
    "peuplement.columns = peuplement.columns.droplevel()\n",
    "peuplement.columns = [\"date\",\"peuplement\"]\n",
    "peuplement = peuplement.reset_index()\n",
    "\n",
    "# Intégration aux données NDVI\n",
    "peuplement[\"campagne\"] = peuplement[\"date\"].dt.year.map(lambda x:int(x))\n",
    "peuplement['campagne'] = peuplement['campagne'].astype('string')\n",
    "peuplement = peuplement.drop([\"date\"], axis = 1)\n",
    "\n",
    "donnees = donnees.merge(peuplement,on=['campagne','parcelle'],how='left')\n",
    "\n",
    "donnees['parcelle'] = donnees['parcelle'].astype('string')\n",
    "print(donnees)\n",
    "#donnees = donnees[donnees[\"parcelle\"] == \"tivillers8\"]\n",
    "#donnees[\"ndvi\"].plot(title = \"Evolution du NDVI sur l'année\", ylabel = \"NDVI\")\n",
    "#donnees[\"ndvi\"].resample(\"2W\").mean().plot(title = \"Evolution du NDVI sur l'année\", ylabel = \"NDVI\")"
   ]
  },
  {
   "cell_type": "code",
   "execution_count": 4,
   "metadata": {},
   "outputs": [],
   "source": [
    "donnees = donnees.sort_values([\"parcelle\",\"date\"])\n",
    "donnees = donnees.dropna(axis = 0, subset=['peuplement'])\n",
    "\n",
    "df = donnees.loc[:,[\"parcelle\",\"date\",\"ndvi\"]]\n",
    "y = donnees.loc[:,[\"parcelle\",\"peuplement\",\"campagne\"]].drop_duplicates().peuplement\n",
    "\n",
    "y = y.reset_index(drop = True)\n",
    "df = df.reset_index(drop = True)"
   ]
  },
  {
   "cell_type": "code",
   "execution_count": 5,
   "metadata": {},
   "outputs": [
    {
     "name": "stdout",
     "output_type": "stream",
     "text": [
      "0     56000.000000\n",
      "1     75600.000000\n",
      "2     68000.000000\n",
      "3     71600.000000\n",
      "4     43600.000000\n",
      "5     67200.000000\n",
      "6     68000.000000\n",
      "7     57600.000000\n",
      "8     64400.000000\n",
      "9     56000.000000\n",
      "10    56000.000000\n",
      "11    58800.000000\n",
      "12    54800.000000\n",
      "13    50400.000000\n",
      "14    52000.000000\n",
      "15    41200.000000\n",
      "16    33200.000000\n",
      "17    56800.000000\n",
      "18    61600.000000\n",
      "19    62000.000000\n",
      "20    30000.000000\n",
      "21    39200.000000\n",
      "22    48400.000000\n",
      "23    36416.666667\n",
      "24    30000.000001\n",
      "25    60555.555555\n",
      "26    37666.666668\n",
      "27    49333.333334\n",
      "28    29090.909090\n",
      "29    38181.818182\n",
      "30    45454.545456\n",
      "31    43666.666666\n",
      "32    36952.380952\n",
      "33    35166.666667\n",
      "34    30222.222222\n",
      "35    38000.000000\n",
      "36    41200.000000\n",
      "37    79600.000000\n",
      "38    72000.000000\n",
      "39    94000.000000\n",
      "40    82000.000000\n",
      "Name: peuplement, dtype: float64\n"
     ]
    }
   ],
   "source": [
    "print(y)"
   ]
  },
  {
   "cell_type": "code",
   "execution_count": 6,
   "metadata": {},
   "outputs": [],
   "source": [
    "date=[]\n",
    "for i in donnees['date'] :\n",
    "    a = i.date()\n",
    "    date.append(a)"
   ]
  },
  {
   "cell_type": "code",
   "execution_count": 7,
   "metadata": {},
   "outputs": [
    {
     "name": "stdout",
     "output_type": "stream",
     "text": [
      "0     2022-05-10\n",
      "1     2022-05-30\n",
      "2     2022-06-14\n",
      "3     2022-06-19\n",
      "4     2022-07-14\n",
      "         ...    \n",
      "607   2022-08-17\n",
      "608   2022-08-20\n",
      "609   2022-08-22\n",
      "610   2022-08-25\n",
      "611   2022-08-30\n",
      "Name: date, Length: 612, dtype: datetime64[ns]\n"
     ]
    }
   ],
   "source": [
    "print(df[\"date\"])"
   ]
  },
  {
   "cell_type": "code",
   "execution_count": 8,
   "metadata": {},
   "outputs": [],
   "source": [
    "#transformation des jours en jour julien\n",
    "date_jour_julien = []\n",
    "for i in date :\n",
    "    if i.month <=5 :\n",
    "        date_jour_julien.append((i.month-1)*30+i.day) \n",
    "    elif i.month <=7:\n",
    "        date_jour_julien.append((i.month-1)*30+i.day+1)\n",
    "    elif i.month ==8 :\n",
    "        date_jour_julien.append((i.month-1)*30+i.day+2)\n",
    "\n",
    "\n"
   ]
  },
  {
   "cell_type": "code",
   "execution_count": 9,
   "metadata": {},
   "outputs": [
    {
     "name": "stdout",
     "output_type": "stream",
     "text": [
      "       parcelle       date  ndvi campagne  peuplement\n",
      "27         1722 2022-05-10  3606     2022     56000.0\n",
      "28         1722 2022-05-30  7392     2022     56000.0\n",
      "29         1722 2022-06-14  7679     2022     56000.0\n",
      "30         1722 2022-06-19  7855     2022     56000.0\n",
      "31         1722 2022-07-14  4981     2022     56000.0\n",
      "..          ...        ...   ...      ...         ...\n",
      "645  tivillers8 2022-08-17  2002     2022     82000.0\n",
      "646  tivillers8 2022-08-20  2106     2022     82000.0\n",
      "647  tivillers8 2022-08-22  1807     2022     82000.0\n",
      "648  tivillers8 2022-08-25  1835     2022     82000.0\n",
      "649  tivillers8 2022-08-30  2051     2022     82000.0\n",
      "\n",
      "[612 rows x 5 columns]\n"
     ]
    }
   ],
   "source": [
    "print(donnees)"
   ]
  },
  {
   "cell_type": "code",
   "execution_count": 10,
   "metadata": {},
   "outputs": [],
   "source": [
    "record =[]\n",
    "for i in range (len(date)):\n",
    "    a= [date[i],date_jour_julien[i]]\n",
    "    record.append(a)"
   ]
  },
  {
   "cell_type": "code",
   "execution_count": 11,
   "metadata": {},
   "outputs": [
    {
     "name": "stdout",
     "output_type": "stream",
     "text": [
      "           date  date_jour_julien\n",
      "0    2022-05-10               130\n",
      "1    2022-05-30               150\n",
      "2    2022-06-14               165\n",
      "3    2022-06-19               170\n",
      "4    2022-07-14               195\n",
      "..          ...               ...\n",
      "607  2022-08-17               229\n",
      "608  2022-08-20               232\n",
      "609  2022-08-22               234\n",
      "610  2022-08-25               237\n",
      "611  2022-08-30               242\n",
      "\n",
      "[612 rows x 2 columns]\n"
     ]
    }
   ],
   "source": [
    "df_date = pd.DataFrame (record,columns=[\"date\",\"date_jour_julien\"]) \n",
    "print(df_date)"
   ]
  },
  {
   "cell_type": "code",
   "execution_count": 12,
   "metadata": {},
   "outputs": [],
   "source": [
    "new_df= pd.concat([df,df_date],axis=1)"
   ]
  },
  {
   "cell_type": "code",
   "execution_count": 13,
   "metadata": {},
   "outputs": [
    {
     "name": "stdout",
     "output_type": "stream",
     "text": [
      "       parcelle       date  ndvi        date  date_jour_julien\n",
      "0          1722 2022-05-10  3606  2022-05-10               130\n",
      "1          1722 2022-05-30  7392  2022-05-30               150\n",
      "2          1722 2022-06-14  7679  2022-06-14               165\n",
      "3          1722 2022-06-19  7855  2022-06-19               170\n",
      "4          1722 2022-07-14  4981  2022-07-14               195\n",
      "..          ...        ...   ...         ...               ...\n",
      "607  tivillers8 2022-08-17  2002  2022-08-17               229\n",
      "608  tivillers8 2022-08-20  2106  2022-08-20               232\n",
      "609  tivillers8 2022-08-22  1807  2022-08-22               234\n",
      "610  tivillers8 2022-08-25  1835  2022-08-25               237\n",
      "611  tivillers8 2022-08-30  2051  2022-08-30               242\n",
      "\n",
      "[612 rows x 5 columns]\n"
     ]
    }
   ],
   "source": [
    "print(new_df)\n"
   ]
  },
  {
   "cell_type": "code",
   "execution_count": 14,
   "metadata": {},
   "outputs": [],
   "source": [
    "newdf = new_df.drop(['date'], axis=1)"
   ]
  },
  {
   "cell_type": "code",
   "execution_count": 15,
   "metadata": {},
   "outputs": [
    {
     "name": "stdout",
     "output_type": "stream",
     "text": [
      "['1722', '2822', '2922', '3822', '4222', '4422', '4522', '4722', '5222', '5322', '5422', '6222', '6322', '6622', '6722', '7122', '7322', '7422', '7522', '7622', '7822', '8222', '8822', 'aubiet11', 'aubiet22', 'coulonges2', 'fdgeda1', 'fdgeda2', 'fdgeda6', 'fdgeda7', 'fdgeda8', 'lamagistere3', 'tiagen1', 'tiravard1', 'tirosieres1', 'tirosieres3', 'tirosieres4', 'tivillers5', 'tivillers6', 'tivillers7', 'tivillers8']\n",
      "[[[130, 150, 165, 170, 195, 205, 215, 220, 225], [3606, 7392, 7679, 7855, 4981, 6421, 4475, 3795, 3458]], [[130, 150, 165, 170, 195, 205, 215, 220, 225], [2808, 7321, 6390, 7689, 4915, 4632, 3579, 3426, 3103]], [[100, 130, 150, 165, 170, 195, 205, 215, 220, 225], [1633, 2381, 7082, 6419, 7486, 4967, 4808, 3219, 2991, 2685]], [[100, 130, 150, 165, 170, 195, 205, 215, 220, 225], [1479, 1673, 7711, 7945, 8177, 6858, 7747, 4773, 3448, 3650]], [[100, 130, 150, 165, 170, 195, 205, 215, 220, 225, 240], [2231, 3310, 5527, 7316, 7164, 6658, 7114, 5303, 3939, 3058, 2344]], [[100, 130, 150, 165, 170, 195, 205, 215, 220, 225], [2235, 4586, 7896, 7891, 7848, 5548, 7146, 5333, 4716, 4389]], [[100, 130, 150, 165, 170, 195, 205, 215, 220, 225], [8680, 5639, 8423, 7026, 5228, 2112, 1837, 1461, 1578, 1523]], [[100, 130, 150, 165, 170, 195, 205, 215, 220, 225], [2248, 4204, 6281, 7485, 7354, 5894, 6770, 4782, 3872, 3347]], [[100, 130, 150, 165, 170, 195, 205, 215, 220, 225], [7685, 6232, 7676, 6747, 5432, 2857, 2129, 2832, 3387, 3122]], [[130, 150, 165, 168, 170, 183, 193, 195, 198, 205, 215, 218, 220, 223, 225, 240], [1897, 5786, 7638, 8517, 7654, 8838, 8369, 6898, 7292, 8260, 8133, 8108, 7980, 7592, 7506, 6043]]]\n"
     ]
    }
   ],
   "source": [
    "# Stockage des données ndvi et leur index en jour de l'année associé dans une liste de liste \n",
    "parcelle_nb = df[\"parcelle\"].drop_duplicates().values.tolist()\n",
    "print(parcelle_nb)\n",
    "groups = newdf.groupby(['parcelle'])\n",
    "doy_ndvi = []\n",
    "for name in parcelle_nb : \n",
    "    doy_ndvi.append([groups.get_group(name)['date_jour_julien'].values.tolist(),groups.get_group(name)['ndvi'].values.tolist()])\n",
    "print(doy_ndvi[:10])"
   ]
  },
  {
   "cell_type": "code",
   "execution_count": 16,
   "metadata": {},
   "outputs": [
    {
     "name": "stdout",
     "output_type": "stream",
     "text": [
      "['1722', '2822', '2922', '3822', '4222', '4422', '4522', '4722', '5222', '5322', '5422', '6222', '6322', '6622', '6722', '7122', '7322', '7422', '7522', '7622', '7822', '8222', '8822', 'aubiet11', 'aubiet22', 'coulonges2', 'fdgeda1', 'fdgeda2', 'fdgeda6', 'fdgeda7', 'fdgeda8', 'lamagistere3', 'tiagen1', 'tiravard1', 'tirosieres1', 'tirosieres3', 'tirosieres4', 'tivillers5', 'tivillers6', 'tivillers7', 'tivillers8']\n"
     ]
    }
   ],
   "source": [
    "parcelle_nb = df[\"parcelle\"].drop_duplicates().values.tolist()\n",
    "print(parcelle_nb)\n",
    "groups = newdf.groupby(['parcelle'])\n",
    "new_ndvi = []\n",
    "for name in parcelle_nb : \n",
    "    new_ndvi.append(groups.get_group(name)['ndvi'].values.tolist())"
   ]
  },
  {
   "cell_type": "code",
   "execution_count": 17,
   "metadata": {},
   "outputs": [
    {
     "name": "stdout",
     "output_type": "stream",
     "text": [
      "<class 'pandas.core.series.Series'>\n"
     ]
    }
   ],
   "source": [
    "print(type(y))"
   ]
  },
  {
   "cell_type": "code",
   "execution_count": 18,
   "metadata": {},
   "outputs": [],
   "source": [
    "new_y = np.array(y)\n",
    "donnees_array = donnees.to_numpy()"
   ]
  },
  {
   "cell_type": "code",
   "execution_count": 19,
   "metadata": {},
   "outputs": [
    {
     "name": "stdout",
     "output_type": "stream",
     "text": [
      "(612, 5)\n"
     ]
    }
   ],
   "source": [
    "print(np.shape(donnees_array))"
   ]
  },
  {
   "cell_type": "code",
   "execution_count": 20,
   "metadata": {},
   "outputs": [
    {
     "name": "stdout",
     "output_type": "stream",
     "text": [
      "<class 'numpy.ndarray'>\n"
     ]
    }
   ],
   "source": [
    "print(type(new_y))"
   ]
  },
  {
   "cell_type": "code",
   "execution_count": 21,
   "metadata": {},
   "outputs": [
    {
     "name": "stdout",
     "output_type": "stream",
     "text": [
      "[56000 75600 68000 71600 43600 67200 68000 57600 64400 56000 56000 58800\n",
      " 54800 50400 52000 41200 33200 56800 61600 62000 30000 39200 48400 36416\n",
      " 30000 60555 37666 49333 29090 38181 45454 43666 36952 35166 30222 38000\n",
      " 41200 79600 72000 94000 82000]\n"
     ]
    }
   ],
   "source": [
    "print(new_y.astype(int))"
   ]
  },
  {
   "cell_type": "code",
   "execution_count": 22,
   "metadata": {},
   "outputs": [
    {
     "name": "stdout",
     "output_type": "stream",
     "text": [
      "(41,)\n"
     ]
    }
   ],
   "source": [
    "print(np.shape(new_y))"
   ]
  },
  {
   "cell_type": "code",
   "execution_count": 23,
   "metadata": {},
   "outputs": [],
   "source": [
    "new_y= new_y.astype(int)\n",
    "new_y = new_y.reshape(41,)"
   ]
  },
  {
   "cell_type": "code",
   "execution_count": 24,
   "metadata": {},
   "outputs": [
    {
     "name": "stdout",
     "output_type": "stream",
     "text": [
      "[56000 75600 68000 71600 43600 67200 68000 57600 64400 56000 56000 58800\n",
      " 54800 50400 52000 41200 33200 56800 61600 62000 30000 39200 48400 36416\n",
      " 30000 60555 37666 49333 29090 38181 45454 43666 36952 35166 30222 38000\n",
      " 41200 79600 72000 94000 82000]\n"
     ]
    }
   ],
   "source": [
    "print((new_y))"
   ]
  },
  {
   "cell_type": "code",
   "execution_count": 81,
   "metadata": {},
   "outputs": [
    {
     "name": "stdout",
     "output_type": "stream",
     "text": [
      "(5,)\n",
      "[1 2 3 4 5]\n",
      "(5, 1)\n",
      "[[1]\n",
      " [2]\n",
      " [3]\n",
      " [4]\n",
      " [5]]\n",
      "(1, 5)\n",
      "[[1 2 3 4 5]]\n"
     ]
    }
   ],
   "source": [
    "a = np.array([1, 2, 3, 4, 5])\n",
    "print(np.shape(a))\n",
    "print(a)\n",
    "b = a.reshape(5,1)\n",
    "print(np.shape(b))\n",
    "print(b)\n",
    "c = a.reshape(1,5)\n",
    "print(np.shape(c))\n",
    "print(c)"
   ]
  },
  {
   "attachments": {},
   "cell_type": "markdown",
   "metadata": {},
   "source": [
    "## INTERPOLATION"
   ]
  },
  {
   "cell_type": "code",
   "execution_count": 26,
   "metadata": {},
   "outputs": [
    {
     "name": "stdout",
     "output_type": "stream",
     "text": [
      "9\n"
     ]
    }
   ],
   "source": [
    "liste =  [2,4,5,6,7,3,4,5,6]\n",
    "print (len(liste))"
   ]
  },
  {
   "cell_type": "code",
   "execution_count": 27,
   "metadata": {},
   "outputs": [
    {
     "name": "stdout",
     "output_type": "stream",
     "text": [
      "<class 'list'>\n",
      "[[[130, 150, 165, 170, 195, 205, 215, 220, 225], [3606, 7392, 7679, 7855, 4981, 6421, 4475, 3795, 3458]], [[130, 150, 165, 170, 195, 205, 215, 220, 225], [2808, 7321, 6390, 7689, 4915, 4632, 3579, 3426, 3103]], [[100, 130, 150, 165, 170, 195, 205, 215, 220, 225], [1633, 2381, 7082, 6419, 7486, 4967, 4808, 3219, 2991, 2685]], [[100, 130, 150, 165, 170, 195, 205, 215, 220, 225], [1479, 1673, 7711, 7945, 8177, 6858, 7747, 4773, 3448, 3650]], [[100, 130, 150, 165, 170, 195, 205, 215, 220, 225, 240], [2231, 3310, 5527, 7316, 7164, 6658, 7114, 5303, 3939, 3058, 2344]], [[100, 130, 150, 165, 170, 195, 205, 215, 220, 225], [2235, 4586, 7896, 7891, 7848, 5548, 7146, 5333, 4716, 4389]], [[100, 130, 150, 165, 170, 195, 205, 215, 220, 225], [8680, 5639, 8423, 7026, 5228, 2112, 1837, 1461, 1578, 1523]], [[100, 130, 150, 165, 170, 195, 205, 215, 220, 225], [2248, 4204, 6281, 7485, 7354, 5894, 6770, 4782, 3872, 3347]], [[100, 130, 150, 165, 170, 195, 205, 215, 220, 225], [7685, 6232, 7676, 6747, 5432, 2857, 2129, 2832, 3387, 3122]], [[130, 150, 165, 168, 170, 183, 193, 195, 198, 205, 215, 218, 220, 223, 225, 240], [1897, 5786, 7638, 8517, 7654, 8838, 8369, 6898, 7292, 8260, 8133, 8108, 7980, 7592, 7506, 6043]], [[100, 130, 150, 165, 170, 195, 205, 215, 220, 225, 240], [2177, 1846, 5513, 6770, 7286, 7219, 7976, 7284, 6950, 6842, 2833]], [[100, 130, 165, 170, 195, 205, 215, 220, 225], [1920, 1962, 7336, 7961, 5448, 5173, 3062, 2677, 2398]], [[100, 130, 165, 170, 195, 205, 215, 220, 225], [1846, 2104, 7545, 8076, 5783, 5341, 3495, 3180, 2845]], [[100, 130, 165, 168, 170, 178, 183, 193, 195, 198, 205, 213, 215, 218, 220, 223, 225, 240], [1941, 1834, 8086, 8461, 7637, 8496, 8296, 6996, 4958, 4971, 4685, 2573, 2622, 2821, 2382, 2312, 2121, 1411]], [[100, 130, 148, 165, 168, 170, 178, 183, 193, 195, 198, 205, 213, 215, 218, 220, 223, 225], [2533, 2252, 5217, 7357, 8077, 7319, 7674, 8078, 6418, 4209, 4983, 6317, 2475, 4267, 4501, 3850, 3448, 3166]], [[100, 130, 150, 165, 170, 195, 205, 215, 220, 225], [1827, 3587, 4566, 7033, 7520, 5806, 7527, 5867, 4354, 3039]], [[100, 130, 150, 165, 170, 195, 205, 215, 220, 225], [2336, 2218, 3972, 6511, 6952, 7226, 7263, 5714, 4483, 3367]], [[100, 130, 148, 165, 168, 170, 178, 183, 193, 195, 198, 205, 215, 218, 220, 223, 225], [2106, 1946, 3282, 5954, 6897, 6589, 8162, 8267, 4830, 4617, 5147, 6741, 5134, 5128, 4418, 3560, 3042]], [[100, 130, 150, 165, 168, 170, 178, 183, 193, 195, 198, 205, 215, 218, 220, 223, 225, 240], [2150, 1708, 4465, 7055, 8015, 7293, 8778, 8717, 5156, 4106, 5689, 6476, 4349, 4616, 3864, 3156, 2737, 2207]], [[100, 130, 165, 168, 170, 183, 193, 195, 198, 205, 215, 218, 220, 223, 225, 240], [1999, 3731, 6791, 7819, 7132, 7073, 6546, 5375, 5380, 6060, 4564, 4408, 3610, 3116, 2588, 1838]], [[100, 130, 150, 165, 170, 195, 205, 215, 220, 225, 240], [3109, 4143, 3895, 6461, 6089, 6214, 7199, 6153, 5666, 5052, 3150]], [[100, 130, 165, 170, 195, 205, 215, 220, 225], [2705, 3495, 6586, 7053, 7518, 7684, 6686, 5671, 4519]], [[100, 130, 150, 165, 170, 195, 205, 215, 220, 225], [2107, 2841, 5074, 7459, 7883, 7529, 7345, 5474, 3917, 3034]], [[95, 100, 115, 120, 130, 150, 165, 170, 195, 205, 215, 220, 225, 230, 235, 240], [1616, 1765, 2428, 1998, 1692, 2802, 4597, 4809, 6637, 5372, 4248, 3294, 2631, 3047, 2481, 2271]], [[95, 100, 115, 120, 130, 150, 165, 170, 195, 205, 215, 220, 225, 230, 235, 240], [1882, 1962, 2268, 1674, 1746, 2535, 4060, 4145, 6628, 5663, 5399, 4749, 3732, 4703, 4136, 3631]], [[113, 118, 123, 148, 153, 168, 178, 183, 188, 193, 198, 213, 218, 223], [2964, 3720, 3191, 4950, 6204, 7809, 8298, 8661, 8377, 7902, 5702, 5239, 4698, 4264]], [[100, 120, 130, 150, 165, 170, 195, 205, 215, 220, 225, 230, 235, 240], [2108, 2411, 3005, 2100, 3497, 3735, 6437, 5747, 4541, 3577, 2816, 2896, 2341, 2377]], [[100, 130, 150, 165, 170, 195, 205, 215, 220, 225, 230, 235, 240], [2226, 2705, 2304, 3866, 4399, 7028, 6627, 5408, 4258, 3219, 2877, 2406, 2775]], [[100, 130, 150, 165, 170, 195, 205, 215, 220, 225, 240], [2593, 3194, 2665, 4891, 4756, 5592, 4750, 3615, 3062, 2704, 2820]], [[100, 130, 150, 165, 170, 195, 205, 215, 220, 225, 240], [2171, 2819, 2082, 4049, 4380, 6529, 5959, 4755, 3990, 3373, 3133]], [[100, 130, 150, 165, 170, 195, 205, 215, 220, 225, 240], [2108, 2879, 3048, 6533, 6410, 6456, 5118, 3183, 2491, 2209, 2196]], [[100, 130, 150, 165, 170, 195, 205, 215, 220, 225, 240], [1234, 1284, 4220, 7539, 7633, 8229, 7853, 5971, 4652, 3586, 2539]], [[100, 130, 148, 150, 165, 170, 193, 195, 198, 205, 213, 215, 218, 220, 223, 225, 240], [2233, 2022, 3553, 3420, 5729, 5712, 7812, 7571, 7303, 6990, 6205, 5530, 4752, 4497, 3900, 3510, 3264]], [[123, 148, 153, 168, 178, 183, 188, 193, 198, 213, 218, 223], [1668, 4090, 4222, 4077, 5820, 6020, 4752, 3865, 2980, 2159, 1734, 1586]], [[94, 107, 112, 124, 127, 129, 134, 137, 144, 157, 162, 164, 169, 174, 179, 184, 189, 194, 197, 199, 212, 214, 219, 222, 224, 229, 232, 234, 237, 242], [4826, 5359, 5238, 5370, 5519, 5497, 5220, 5542, 6598, 5507, 6993, 6240, 5879, 6101, 5299, 4906, 4644, 4233, 3969, 3602, 2780, 2136, 2528, 2348, 2077, 2096, 2301, 1850, 1813, 1861]], [[94, 107, 112, 124, 127, 129, 134, 137, 157, 162, 164, 169, 174, 179, 184, 189, 194, 197, 199, 212, 214, 219, 222, 224, 229, 232, 234, 237, 242], [2283, 2257, 2423, 2201, 2384, 2228, 2834, 2385, 3685, 3429, 4321, 4996, 5851, 6587, 6517, 6085, 5119, 4663, 4224, 3766, 3329, 3376, 3048, 2825, 2615, 3182, 2645, 2570, 2403]], [[94, 107, 112, 124, 127, 129, 134, 137, 157, 162, 164, 169, 174, 179, 184, 189, 194, 197, 199, 212, 214, 219, 222, 224, 229, 232, 234, 237, 242], [1989, 2080, 2368, 2070, 2107, 1960, 2608, 1994, 3520, 3780, 4001, 4698, 5453, 5226, 5888, 5395, 4531, 4118, 3758, 3257, 2987, 2876, 2682, 2419, 1595, 2623, 2201, 2217, 2121]], [[94, 107, 112, 124, 127, 129, 134, 137, 162, 164, 169, 174, 179, 184, 189, 194, 197, 199, 212, 214, 219, 222, 224, 229, 232, 234, 237, 242], [1665, 1798, 2133, 1937, 2121, 1799, 2133, 2148, 6195, 6417, 6544, 6167, 5860, 7384, 6631, 5912, 5421, 4790, 3903, 3652, 3243, 2893, 2645, 2874, 2800, 2579, 2498, 2377]], [[94, 107, 112, 124, 127, 129, 134, 137, 162, 164, 169, 174, 179, 184, 189, 194, 197, 199, 212, 214, 219, 222, 224, 229, 232, 234, 237, 242], [1484, 1676, 1812, 1517, 1937, 1681, 2133, 2140, 7150, 6709, 7369, 6346, 7089, 8263, 7658, 6825, 6297, 5737, 4595, 4335, 3579, 3027, 2686, 2821, 2768, 2508, 2458, 2316]], [[94, 107, 112, 124, 127, 129, 134, 137, 162, 169, 179, 184, 189, 194, 197, 199, 212, 214, 219, 222, 224, 229, 232, 234, 237, 242], [1361, 1590, 1814, 1502, 1662, 1529, 2077, 1890, 7108, 7338, 7533, 6897, 6998, 6329, 5814, 5148, 3948, 3729, 3194, 2786, 2496, 2573, 2628, 2218, 2143, 2258]], [[94, 107, 112, 124, 127, 129, 134, 137, 162, 169, 184, 189, 194, 197, 199, 212, 214, 219, 222, 224, 229, 232, 234, 237, 242], [1425, 1654, 2280, 1721, 1774, 1707, 2298, 2312, 6639, 7071, 7462, 6634, 5847, 5260, 4807, 3930, 3553, 3028, 2516, 2224, 2002, 2106, 1807, 1835, 2051]]]\n"
     ]
    }
   ],
   "source": [
    "print(type(doy_ndvi))\n",
    "print(doy_ndvi)"
   ]
  },
  {
   "cell_type": "code",
   "execution_count": 28,
   "metadata": {},
   "outputs": [
    {
     "name": "stdout",
     "output_type": "stream",
     "text": [
      "[130, 130, 100, 100, 100, 100, 100, 100, 100, 130, 100, 100, 100, 100, 100, 100, 100, 100, 100, 100, 100, 100, 100, 95, 95, 113, 100, 100, 100, 100, 100, 100, 100, 123, 94, 94, 94, 94, 94, 94, 94] [225, 225, 225, 225, 240, 225, 225, 225, 225, 240, 240, 225, 225, 240, 225, 225, 225, 225, 240, 240, 240, 225, 225, 240, 240, 223, 240, 240, 240, 240, 240, 240, 240, 223, 242, 242, 242, 242, 242, 242, 242] [9, 9, 10, 10, 11, 10, 10, 10, 10, 16, 11, 9, 9, 18, 18, 10, 10, 17, 18, 16, 11, 9, 10, 16, 16, 14, 14, 13, 11, 11, 11, 11, 17, 12, 30, 29, 29, 28, 28, 26, 25]\n",
      "94 242\n"
     ]
    }
   ],
   "source": [
    "debut = [ doy_ndvi[k][0][0] for k in  range (len(doy_ndvi))]\n",
    "fin = [ doy_ndvi[k][0][-1]  for k in  range (len(doy_ndvi))]\n",
    "le = [len(doy_ndvi[k][0])for k in range(len(doy_ndvi))]\n",
    "print(debut,fin,le)\n",
    "print(min(debut),max(fin))\n"
   ]
  },
  {
   "attachments": {},
   "cell_type": "markdown",
   "metadata": {},
   "source": [
    "## Création d'une liste de date pour tous les jours"
   ]
  },
  {
   "cell_type": "code",
   "execution_count": 29,
   "metadata": {},
   "outputs": [
    {
     "name": "stdout",
     "output_type": "stream",
     "text": [
      "[94, 95, 96, 97, 98, 99, 100, 101, 102, 103, 104, 105, 106, 107, 108, 109, 110, 111, 112, 113, 114, 115, 116, 117, 118, 119, 120, 121, 122, 123, 124, 125, 126, 127, 128, 129, 130, 131, 132, 133, 134, 135, 136, 137, 138, 139, 140, 141, 142, 143, 144, 145, 146, 147, 148, 149, 150, 151, 152, 153, 154, 155, 156, 157, 158, 159, 160, 161, 162, 163, 164, 165, 166, 167, 168, 169, 170, 171, 172, 173, 174, 175, 176, 177, 178, 179, 180, 181, 182, 183, 184, 185, 186, 187, 188, 189, 190, 191, 192, 193, 194, 195, 196, 197, 198, 199, 200, 201, 202, 203, 204, 205, 206, 207, 208, 209, 210, 211, 212, 213, 214, 215, 216, 217, 218, 219, 220, 221, 222, 223, 224, 225, 226, 227, 228, 229, 230, 231, 232, 233, 234, 235, 236, 237, 238, 239, 240, 241, 242]\n"
     ]
    }
   ],
   "source": [
    "all_dates=[]\n",
    "for i in range (94,243):\n",
    "    all_dates.append(i)\n",
    "print(all_dates)"
   ]
  },
  {
   "cell_type": "code",
   "execution_count": 30,
   "metadata": {},
   "outputs": [],
   "source": [
    "tous_les_jours = []\n",
    "for i in range (len(doy_ndvi)):\n",
    "    indice = []\n",
    "    val = []\n",
    "    indi2=0\n",
    "    for j in range(doy_ndvi[i][0][0],doy_ndvi[i][0][-1]+1):\n",
    "        if j in doy_ndvi[i][0]:\n",
    "            indice.append(j)\n",
    "            val.append(doy_ndvi[i][1][indi2])\n",
    "            indi2+=1\n",
    "        else : \n",
    "            indice.append(j)\n",
    "            val.append(np.nan)\n",
    "    tous_les_jours.append([indice,val])"
   ]
  },
  {
   "cell_type": "code",
   "execution_count": 31,
   "metadata": {},
   "outputs": [],
   "source": [
    "tous_les_jours_df = pd.DataFrame([tous_les_jours[0]], columns= ('jour','ndvi'))"
   ]
  },
  {
   "cell_type": "code",
   "execution_count": 32,
   "metadata": {},
   "outputs": [
    {
     "name": "stdout",
     "output_type": "stream",
     "text": [
      "0    [3606, nan, nan, nan, nan, nan, nan, nan, nan,...\n",
      "Name: ndvi, dtype: object\n"
     ]
    }
   ],
   "source": [
    "print(tous_les_jours_df['ndvi'].interpolate())"
   ]
  },
  {
   "cell_type": "code",
   "execution_count": 33,
   "metadata": {},
   "outputs": [
    {
     "name": "stdout",
     "output_type": "stream",
     "text": [
      "Empty DataFrame\n",
      "Columns: [jour, ndvi]\n",
      "Index: []\n"
     ]
    }
   ],
   "source": [
    "data1 = pd.DataFrame(columns=['jour','ndvi'])\n",
    "print(data1)\n"
   ]
  },
  {
   "cell_type": "code",
   "execution_count": 34,
   "metadata": {},
   "outputs": [
    {
     "name": "stdout",
     "output_type": "stream",
     "text": [
      "[    jour    ndvi\n",
      "0    130  3606.0\n",
      "1    131     NaN\n",
      "2    132     NaN\n",
      "3    133     NaN\n",
      "4    134     NaN\n",
      "..   ...     ...\n",
      "91   221     NaN\n",
      "92   222     NaN\n",
      "93   223     NaN\n",
      "94   224     NaN\n",
      "95   225  3458.0\n",
      "\n",
      "[96 rows x 2 columns],     jour    ndvi\n",
      "0    130  2808.0\n",
      "1    131     NaN\n",
      "2    132     NaN\n",
      "3    133     NaN\n",
      "4    134     NaN\n",
      "..   ...     ...\n",
      "91   221     NaN\n",
      "92   222     NaN\n",
      "93   223     NaN\n",
      "94   224     NaN\n",
      "95   225  3103.0\n",
      "\n",
      "[96 rows x 2 columns],      jour    ndvi\n",
      "0     100  1633.0\n",
      "1     101     NaN\n",
      "2     102     NaN\n",
      "3     103     NaN\n",
      "4     104     NaN\n",
      "..    ...     ...\n",
      "121   221     NaN\n",
      "122   222     NaN\n",
      "123   223     NaN\n",
      "124   224     NaN\n",
      "125   225  2685.0\n",
      "\n",
      "[126 rows x 2 columns],      jour    ndvi\n",
      "0     100  1479.0\n",
      "1     101     NaN\n",
      "2     102     NaN\n",
      "3     103     NaN\n",
      "4     104     NaN\n",
      "..    ...     ...\n",
      "121   221     NaN\n",
      "122   222     NaN\n",
      "123   223     NaN\n",
      "124   224     NaN\n",
      "125   225  3650.0\n",
      "\n",
      "[126 rows x 2 columns],      jour    ndvi\n",
      "0     100  2231.0\n",
      "1     101     NaN\n",
      "2     102     NaN\n",
      "3     103     NaN\n",
      "4     104     NaN\n",
      "..    ...     ...\n",
      "136   236     NaN\n",
      "137   237     NaN\n",
      "138   238     NaN\n",
      "139   239     NaN\n",
      "140   240  2344.0\n",
      "\n",
      "[141 rows x 2 columns],      jour    ndvi\n",
      "0     100  2235.0\n",
      "1     101     NaN\n",
      "2     102     NaN\n",
      "3     103     NaN\n",
      "4     104     NaN\n",
      "..    ...     ...\n",
      "121   221     NaN\n",
      "122   222     NaN\n",
      "123   223     NaN\n",
      "124   224     NaN\n",
      "125   225  4389.0\n",
      "\n",
      "[126 rows x 2 columns],      jour    ndvi\n",
      "0     100  8680.0\n",
      "1     101     NaN\n",
      "2     102     NaN\n",
      "3     103     NaN\n",
      "4     104     NaN\n",
      "..    ...     ...\n",
      "121   221     NaN\n",
      "122   222     NaN\n",
      "123   223     NaN\n",
      "124   224     NaN\n",
      "125   225  1523.0\n",
      "\n",
      "[126 rows x 2 columns],      jour    ndvi\n",
      "0     100  2248.0\n",
      "1     101     NaN\n",
      "2     102     NaN\n",
      "3     103     NaN\n",
      "4     104     NaN\n",
      "..    ...     ...\n",
      "121   221     NaN\n",
      "122   222     NaN\n",
      "123   223     NaN\n",
      "124   224     NaN\n",
      "125   225  3347.0\n",
      "\n",
      "[126 rows x 2 columns],      jour    ndvi\n",
      "0     100  7685.0\n",
      "1     101     NaN\n",
      "2     102     NaN\n",
      "3     103     NaN\n",
      "4     104     NaN\n",
      "..    ...     ...\n",
      "121   221     NaN\n",
      "122   222     NaN\n",
      "123   223     NaN\n",
      "124   224     NaN\n",
      "125   225  3122.0\n",
      "\n",
      "[126 rows x 2 columns],      jour    ndvi\n",
      "0     130  1897.0\n",
      "1     131     NaN\n",
      "2     132     NaN\n",
      "3     133     NaN\n",
      "4     134     NaN\n",
      "..    ...     ...\n",
      "106   236     NaN\n",
      "107   237     NaN\n",
      "108   238     NaN\n",
      "109   239     NaN\n",
      "110   240  6043.0\n",
      "\n",
      "[111 rows x 2 columns],      jour    ndvi\n",
      "0     100  2177.0\n",
      "1     101     NaN\n",
      "2     102     NaN\n",
      "3     103     NaN\n",
      "4     104     NaN\n",
      "..    ...     ...\n",
      "136   236     NaN\n",
      "137   237     NaN\n",
      "138   238     NaN\n",
      "139   239     NaN\n",
      "140   240  2833.0\n",
      "\n",
      "[141 rows x 2 columns],      jour    ndvi\n",
      "0     100  1920.0\n",
      "1     101     NaN\n",
      "2     102     NaN\n",
      "3     103     NaN\n",
      "4     104     NaN\n",
      "..    ...     ...\n",
      "121   221     NaN\n",
      "122   222     NaN\n",
      "123   223     NaN\n",
      "124   224     NaN\n",
      "125   225  2398.0\n",
      "\n",
      "[126 rows x 2 columns],      jour    ndvi\n",
      "0     100  1846.0\n",
      "1     101     NaN\n",
      "2     102     NaN\n",
      "3     103     NaN\n",
      "4     104     NaN\n",
      "..    ...     ...\n",
      "121   221     NaN\n",
      "122   222     NaN\n",
      "123   223     NaN\n",
      "124   224     NaN\n",
      "125   225  2845.0\n",
      "\n",
      "[126 rows x 2 columns],      jour    ndvi\n",
      "0     100  1941.0\n",
      "1     101     NaN\n",
      "2     102     NaN\n",
      "3     103     NaN\n",
      "4     104     NaN\n",
      "..    ...     ...\n",
      "136   236     NaN\n",
      "137   237     NaN\n",
      "138   238     NaN\n",
      "139   239     NaN\n",
      "140   240  1411.0\n",
      "\n",
      "[141 rows x 2 columns],      jour    ndvi\n",
      "0     100  2533.0\n",
      "1     101     NaN\n",
      "2     102     NaN\n",
      "3     103     NaN\n",
      "4     104     NaN\n",
      "..    ...     ...\n",
      "121   221     NaN\n",
      "122   222     NaN\n",
      "123   223  3448.0\n",
      "124   224     NaN\n",
      "125   225  3166.0\n",
      "\n",
      "[126 rows x 2 columns],      jour    ndvi\n",
      "0     100  1827.0\n",
      "1     101     NaN\n",
      "2     102     NaN\n",
      "3     103     NaN\n",
      "4     104     NaN\n",
      "..    ...     ...\n",
      "121   221     NaN\n",
      "122   222     NaN\n",
      "123   223     NaN\n",
      "124   224     NaN\n",
      "125   225  3039.0\n",
      "\n",
      "[126 rows x 2 columns],      jour    ndvi\n",
      "0     100  2336.0\n",
      "1     101     NaN\n",
      "2     102     NaN\n",
      "3     103     NaN\n",
      "4     104     NaN\n",
      "..    ...     ...\n",
      "121   221     NaN\n",
      "122   222     NaN\n",
      "123   223     NaN\n",
      "124   224     NaN\n",
      "125   225  3367.0\n",
      "\n",
      "[126 rows x 2 columns],      jour    ndvi\n",
      "0     100  2106.0\n",
      "1     101     NaN\n",
      "2     102     NaN\n",
      "3     103     NaN\n",
      "4     104     NaN\n",
      "..    ...     ...\n",
      "121   221     NaN\n",
      "122   222     NaN\n",
      "123   223  3560.0\n",
      "124   224     NaN\n",
      "125   225  3042.0\n",
      "\n",
      "[126 rows x 2 columns],      jour    ndvi\n",
      "0     100  2150.0\n",
      "1     101     NaN\n",
      "2     102     NaN\n",
      "3     103     NaN\n",
      "4     104     NaN\n",
      "..    ...     ...\n",
      "136   236     NaN\n",
      "137   237     NaN\n",
      "138   238     NaN\n",
      "139   239     NaN\n",
      "140   240  2207.0\n",
      "\n",
      "[141 rows x 2 columns],      jour    ndvi\n",
      "0     100  1999.0\n",
      "1     101     NaN\n",
      "2     102     NaN\n",
      "3     103     NaN\n",
      "4     104     NaN\n",
      "..    ...     ...\n",
      "136   236     NaN\n",
      "137   237     NaN\n",
      "138   238     NaN\n",
      "139   239     NaN\n",
      "140   240  1838.0\n",
      "\n",
      "[141 rows x 2 columns],      jour    ndvi\n",
      "0     100  3109.0\n",
      "1     101     NaN\n",
      "2     102     NaN\n",
      "3     103     NaN\n",
      "4     104     NaN\n",
      "..    ...     ...\n",
      "136   236     NaN\n",
      "137   237     NaN\n",
      "138   238     NaN\n",
      "139   239     NaN\n",
      "140   240  3150.0\n",
      "\n",
      "[141 rows x 2 columns],      jour    ndvi\n",
      "0     100  2705.0\n",
      "1     101     NaN\n",
      "2     102     NaN\n",
      "3     103     NaN\n",
      "4     104     NaN\n",
      "..    ...     ...\n",
      "121   221     NaN\n",
      "122   222     NaN\n",
      "123   223     NaN\n",
      "124   224     NaN\n",
      "125   225  4519.0\n",
      "\n",
      "[126 rows x 2 columns],      jour    ndvi\n",
      "0     100  2107.0\n",
      "1     101     NaN\n",
      "2     102     NaN\n",
      "3     103     NaN\n",
      "4     104     NaN\n",
      "..    ...     ...\n",
      "121   221     NaN\n",
      "122   222     NaN\n",
      "123   223     NaN\n",
      "124   224     NaN\n",
      "125   225  3034.0\n",
      "\n",
      "[126 rows x 2 columns],      jour    ndvi\n",
      "0      95  1616.0\n",
      "1      96     NaN\n",
      "2      97     NaN\n",
      "3      98     NaN\n",
      "4      99     NaN\n",
      "..    ...     ...\n",
      "141   236     NaN\n",
      "142   237     NaN\n",
      "143   238     NaN\n",
      "144   239     NaN\n",
      "145   240  2271.0\n",
      "\n",
      "[146 rows x 2 columns],      jour    ndvi\n",
      "0      95  1882.0\n",
      "1      96     NaN\n",
      "2      97     NaN\n",
      "3      98     NaN\n",
      "4      99     NaN\n",
      "..    ...     ...\n",
      "141   236     NaN\n",
      "142   237     NaN\n",
      "143   238     NaN\n",
      "144   239     NaN\n",
      "145   240  3631.0\n",
      "\n",
      "[146 rows x 2 columns],      jour    ndvi\n",
      "0     113  2964.0\n",
      "1     114     NaN\n",
      "2     115     NaN\n",
      "3     116     NaN\n",
      "4     117     NaN\n",
      "..    ...     ...\n",
      "106   219     NaN\n",
      "107   220     NaN\n",
      "108   221     NaN\n",
      "109   222     NaN\n",
      "110   223  4264.0\n",
      "\n",
      "[111 rows x 2 columns],      jour    ndvi\n",
      "0     100  2108.0\n",
      "1     101     NaN\n",
      "2     102     NaN\n",
      "3     103     NaN\n",
      "4     104     NaN\n",
      "..    ...     ...\n",
      "136   236     NaN\n",
      "137   237     NaN\n",
      "138   238     NaN\n",
      "139   239     NaN\n",
      "140   240  2377.0\n",
      "\n",
      "[141 rows x 2 columns],      jour    ndvi\n",
      "0     100  2226.0\n",
      "1     101     NaN\n",
      "2     102     NaN\n",
      "3     103     NaN\n",
      "4     104     NaN\n",
      "..    ...     ...\n",
      "136   236     NaN\n",
      "137   237     NaN\n",
      "138   238     NaN\n",
      "139   239     NaN\n",
      "140   240  2775.0\n",
      "\n",
      "[141 rows x 2 columns],      jour    ndvi\n",
      "0     100  2593.0\n",
      "1     101     NaN\n",
      "2     102     NaN\n",
      "3     103     NaN\n",
      "4     104     NaN\n",
      "..    ...     ...\n",
      "136   236     NaN\n",
      "137   237     NaN\n",
      "138   238     NaN\n",
      "139   239     NaN\n",
      "140   240  2820.0\n",
      "\n",
      "[141 rows x 2 columns],      jour    ndvi\n",
      "0     100  2171.0\n",
      "1     101     NaN\n",
      "2     102     NaN\n",
      "3     103     NaN\n",
      "4     104     NaN\n",
      "..    ...     ...\n",
      "136   236     NaN\n",
      "137   237     NaN\n",
      "138   238     NaN\n",
      "139   239     NaN\n",
      "140   240  3133.0\n",
      "\n",
      "[141 rows x 2 columns],      jour    ndvi\n",
      "0     100  2108.0\n",
      "1     101     NaN\n",
      "2     102     NaN\n",
      "3     103     NaN\n",
      "4     104     NaN\n",
      "..    ...     ...\n",
      "136   236     NaN\n",
      "137   237     NaN\n",
      "138   238     NaN\n",
      "139   239     NaN\n",
      "140   240  2196.0\n",
      "\n",
      "[141 rows x 2 columns],      jour    ndvi\n",
      "0     100  1234.0\n",
      "1     101     NaN\n",
      "2     102     NaN\n",
      "3     103     NaN\n",
      "4     104     NaN\n",
      "..    ...     ...\n",
      "136   236     NaN\n",
      "137   237     NaN\n",
      "138   238     NaN\n",
      "139   239     NaN\n",
      "140   240  2539.0\n",
      "\n",
      "[141 rows x 2 columns],      jour    ndvi\n",
      "0     100  2233.0\n",
      "1     101     NaN\n",
      "2     102     NaN\n",
      "3     103     NaN\n",
      "4     104     NaN\n",
      "..    ...     ...\n",
      "136   236     NaN\n",
      "137   237     NaN\n",
      "138   238     NaN\n",
      "139   239     NaN\n",
      "140   240  3264.0\n",
      "\n",
      "[141 rows x 2 columns],      jour    ndvi\n",
      "0     123  1668.0\n",
      "1     124     NaN\n",
      "2     125     NaN\n",
      "3     126     NaN\n",
      "4     127     NaN\n",
      "..    ...     ...\n",
      "96    219     NaN\n",
      "97    220     NaN\n",
      "98    221     NaN\n",
      "99    222     NaN\n",
      "100   223  1586.0\n",
      "\n",
      "[101 rows x 2 columns],      jour    ndvi\n",
      "0      94  4826.0\n",
      "1      95     NaN\n",
      "2      96     NaN\n",
      "3      97     NaN\n",
      "4      98     NaN\n",
      "..    ...     ...\n",
      "144   238     NaN\n",
      "145   239     NaN\n",
      "146   240     NaN\n",
      "147   241     NaN\n",
      "148   242  1861.0\n",
      "\n",
      "[149 rows x 2 columns],      jour    ndvi\n",
      "0      94  2283.0\n",
      "1      95     NaN\n",
      "2      96     NaN\n",
      "3      97     NaN\n",
      "4      98     NaN\n",
      "..    ...     ...\n",
      "144   238     NaN\n",
      "145   239     NaN\n",
      "146   240     NaN\n",
      "147   241     NaN\n",
      "148   242  2403.0\n",
      "\n",
      "[149 rows x 2 columns],      jour    ndvi\n",
      "0      94  1989.0\n",
      "1      95     NaN\n",
      "2      96     NaN\n",
      "3      97     NaN\n",
      "4      98     NaN\n",
      "..    ...     ...\n",
      "144   238     NaN\n",
      "145   239     NaN\n",
      "146   240     NaN\n",
      "147   241     NaN\n",
      "148   242  2121.0\n",
      "\n",
      "[149 rows x 2 columns],      jour    ndvi\n",
      "0      94  1665.0\n",
      "1      95     NaN\n",
      "2      96     NaN\n",
      "3      97     NaN\n",
      "4      98     NaN\n",
      "..    ...     ...\n",
      "144   238     NaN\n",
      "145   239     NaN\n",
      "146   240     NaN\n",
      "147   241     NaN\n",
      "148   242  2377.0\n",
      "\n",
      "[149 rows x 2 columns],      jour    ndvi\n",
      "0      94  1484.0\n",
      "1      95     NaN\n",
      "2      96     NaN\n",
      "3      97     NaN\n",
      "4      98     NaN\n",
      "..    ...     ...\n",
      "144   238     NaN\n",
      "145   239     NaN\n",
      "146   240     NaN\n",
      "147   241     NaN\n",
      "148   242  2316.0\n",
      "\n",
      "[149 rows x 2 columns],      jour    ndvi\n",
      "0      94  1361.0\n",
      "1      95     NaN\n",
      "2      96     NaN\n",
      "3      97     NaN\n",
      "4      98     NaN\n",
      "..    ...     ...\n",
      "144   238     NaN\n",
      "145   239     NaN\n",
      "146   240     NaN\n",
      "147   241     NaN\n",
      "148   242  2258.0\n",
      "\n",
      "[149 rows x 2 columns],      jour    ndvi\n",
      "0      94  1425.0\n",
      "1      95     NaN\n",
      "2      96     NaN\n",
      "3      97     NaN\n",
      "4      98     NaN\n",
      "..    ...     ...\n",
      "144   238     NaN\n",
      "145   239     NaN\n",
      "146   240     NaN\n",
      "147   241     NaN\n",
      "148   242  2051.0\n",
      "\n",
      "[149 rows x 2 columns]]\n"
     ]
    }
   ],
   "source": [
    "#On repasse tout ça en dataframe que l'on stocke dans une liste pour pouvoir utiliser l'interpolation\n",
    "datalist = []\n",
    "for parc in tous_les_jours : \n",
    "    datalist.append(pd.DataFrame(parc[0], columns= ['jour']))\n",
    "    datalist[-1][\"ndvi\"] = parc[1]\n",
    "print(datalist)"
   ]
  },
  {
   "cell_type": "code",
   "execution_count": 35,
   "metadata": {},
   "outputs": [
    {
     "name": "stdout",
     "output_type": "stream",
     "text": [
      "<class 'list'>\n"
     ]
    }
   ],
   "source": [
    "print (type(datalist))"
   ]
  },
  {
   "cell_type": "code",
   "execution_count": 36,
   "metadata": {},
   "outputs": [
    {
     "name": "stdout",
     "output_type": "stream",
     "text": [
      "   jour    ndvi\n",
      "0   130  3606.0\n",
      "1   131     NaN\n"
     ]
    }
   ],
   "source": [
    "print(datalist[0:1][0][0:2])"
   ]
  },
  {
   "cell_type": "code",
   "execution_count": 37,
   "metadata": {},
   "outputs": [],
   "source": [
    "# On remplace les donnees manquantes par interpolation linaires \n",
    "df_interpolate = [ k.interpolate() for k in datalist]\n"
   ]
  },
  {
   "cell_type": "code",
   "execution_count": 38,
   "metadata": {},
   "outputs": [],
   "source": [
    "ndvi2 = [[k['jour'].values.tolist() , k['ndvi'].values.tolist()] for k in df_interpolate]"
   ]
  },
  {
   "cell_type": "code",
   "execution_count": 39,
   "metadata": {},
   "outputs": [
    {
     "name": "stdout",
     "output_type": "stream",
     "text": [
      "[[130, 131, 132, 133, 134, 135, 136, 137, 138, 139, 140, 141, 142, 143, 144, 145, 146, 147, 148, 149, 150, 151, 152, 153, 154, 155, 156, 157, 158, 159, 160, 161, 162, 163, 164, 165, 166, 167, 168, 169, 170, 171, 172, 173, 174, 175, 176, 177, 178, 179, 180, 181, 182, 183, 184, 185, 186, 187, 188, 189, 190, 191, 192, 193, 194, 195, 196, 197, 198, 199, 200, 201, 202, 203, 204, 205, 206, 207, 208, 209, 210, 211, 212, 213, 214, 215, 216, 217, 218, 219, 220, 221, 222, 223, 224, 225], [3606.0, 3795.3, 3984.6, 4173.9, 4363.2, 4552.5, 4741.8, 4931.1, 5120.4, 5309.7, 5499.0, 5688.3, 5877.6, 6066.9, 6256.200000000001, 6445.5, 6634.8, 6824.1, 7013.4, 7202.700000000001, 7392.0, 7411.133333333333, 7430.266666666666, 7449.4, 7468.533333333334, 7487.666666666667, 7506.8, 7525.933333333333, 7545.066666666667, 7564.2, 7583.333333333333, 7602.466666666666, 7621.6, 7640.733333333334, 7659.866666666667, 7679.0, 7714.2, 7749.4, 7784.6, 7819.8, 7855.0, 7740.04, 7625.08, 7510.12, 7395.16, 7280.2, 7165.24, 7050.28, 6935.32, 6820.360000000001, 6705.4, 6590.4400000000005, 6475.48, 6360.52, 6245.56, 6130.6, 6015.64, 5900.68, 5785.72, 5670.76, 5555.8, 5440.84, 5325.88, 5210.92, 5095.96, 4981.0, 5125.0, 5269.0, 5413.0, 5557.0, 5701.0, 5845.0, 5989.0, 6133.0, 6277.0, 6421.0, 6226.4, 6031.8, 5837.2, 5642.6, 5448.0, 5253.4, 5058.8, 4864.2, 4669.6, 4475.0, 4339.0, 4203.0, 4067.0, 3931.0, 3795.0, 3727.6, 3660.2, 3592.8, 3525.4, 3458.0]]\n"
     ]
    }
   ],
   "source": [
    "print(ndvi2[0])"
   ]
  },
  {
   "cell_type": "code",
   "execution_count": 40,
   "metadata": {},
   "outputs": [
    {
     "name": "stdout",
     "output_type": "stream",
     "text": [
      "41\n"
     ]
    }
   ],
   "source": [
    "print(len(ndvi2))"
   ]
  },
  {
   "cell_type": "code",
   "execution_count": 41,
   "metadata": {},
   "outputs": [],
   "source": [
    "list_all_day = []\n",
    "for i in range (len(ndvi2)):\n",
    "    indice = []\n",
    "    val = []\n",
    "    indi2=0\n",
    "    for j in range(min(debut),max(fin)+1):\n",
    "        if j in ndvi2[i][0]:\n",
    "            indice.append(j)\n",
    "            val.append(ndvi2[i][1][indi2])\n",
    "            indi2+=1\n",
    "        else : \n",
    "            indice.append(j)\n",
    "            val.append(np.nan)\n",
    "    list_all_day.append([indice,val])"
   ]
  },
  {
   "cell_type": "code",
   "execution_count": 42,
   "metadata": {},
   "outputs": [
    {
     "name": "stdout",
     "output_type": "stream",
     "text": [
      "[[94, 95, 96, 97, 98, 99, 100, 101, 102, 103, 104, 105, 106, 107, 108, 109, 110, 111, 112, 113, 114, 115, 116, 117, 118, 119, 120, 121, 122, 123, 124, 125, 126, 127, 128, 129, 130, 131, 132, 133, 134, 135, 136, 137, 138, 139, 140, 141, 142, 143, 144, 145, 146, 147, 148, 149, 150, 151, 152, 153, 154, 155, 156, 157, 158, 159, 160, 161, 162, 163, 164, 165, 166, 167, 168, 169, 170, 171, 172, 173, 174, 175, 176, 177, 178, 179, 180, 181, 182, 183, 184, 185, 186, 187, 188, 189, 190, 191, 192, 193, 194, 195, 196, 197, 198, 199, 200, 201, 202, 203, 204, 205, 206, 207, 208, 209, 210, 211, 212, 213, 214, 215, 216, 217, 218, 219, 220, 221, 222, 223, 224, 225, 226, 227, 228, 229, 230, 231, 232, 233, 234, 235, 236, 237, 238, 239, 240, 241, 242], [nan, nan, nan, nan, nan, nan, nan, nan, nan, nan, nan, nan, nan, nan, nan, nan, nan, nan, nan, nan, nan, nan, nan, nan, nan, nan, nan, nan, nan, nan, nan, nan, nan, nan, nan, nan, 3606.0, 3795.3, 3984.6, 4173.9, 4363.2, 4552.5, 4741.8, 4931.1, 5120.4, 5309.7, 5499.0, 5688.3, 5877.6, 6066.9, 6256.200000000001, 6445.5, 6634.8, 6824.1, 7013.4, 7202.700000000001, 7392.0, 7411.133333333333, 7430.266666666666, 7449.4, 7468.533333333334, 7487.666666666667, 7506.8, 7525.933333333333, 7545.066666666667, 7564.2, 7583.333333333333, 7602.466666666666, 7621.6, 7640.733333333334, 7659.866666666667, 7679.0, 7714.2, 7749.4, 7784.6, 7819.8, 7855.0, 7740.04, 7625.08, 7510.12, 7395.16, 7280.2, 7165.24, 7050.28, 6935.32, 6820.360000000001, 6705.4, 6590.4400000000005, 6475.48, 6360.52, 6245.56, 6130.6, 6015.64, 5900.68, 5785.72, 5670.76, 5555.8, 5440.84, 5325.88, 5210.92, 5095.96, 4981.0, 5125.0, 5269.0, 5413.0, 5557.0, 5701.0, 5845.0, 5989.0, 6133.0, 6277.0, 6421.0, 6226.4, 6031.8, 5837.2, 5642.6, 5448.0, 5253.4, 5058.8, 4864.2, 4669.6, 4475.0, 4339.0, 4203.0, 4067.0, 3931.0, 3795.0, 3727.6, 3660.2, 3592.8, 3525.4, 3458.0, nan, nan, nan, nan, nan, nan, nan, nan, nan, nan, nan, nan, nan, nan, nan, nan, nan]]\n"
     ]
    }
   ],
   "source": [
    "print(list_all_day[0])"
   ]
  },
  {
   "cell_type": "code",
   "execution_count": 43,
   "metadata": {},
   "outputs": [],
   "source": [
    "cut_all_day = []\n",
    "for i in range (len(ndvi2)):\n",
    "    indice = []\n",
    "    val = []\n",
    "    indi2=0\n",
    "    for j in range(max(debut),min(fin)+1):\n",
    "        if j in ndvi2[i][0]:\n",
    "            indice.append(j)\n",
    "            val.append(ndvi2[i][1][indi2])\n",
    "            indi2+=1\n",
    "        else : \n",
    "            indice.append(j)\n",
    "            val.append(np.nan)\n",
    "    cut_all_day.append([indice,val])"
   ]
  },
  {
   "cell_type": "code",
   "execution_count": 44,
   "metadata": {},
   "outputs": [
    {
     "name": "stdout",
     "output_type": "stream",
     "text": [
      "[[130, 131, 132, 133, 134, 135, 136, 137, 138, 139, 140, 141, 142, 143, 144, 145, 146, 147, 148, 149, 150, 151, 152, 153, 154, 155, 156, 157, 158, 159, 160, 161, 162, 163, 164, 165, 166, 167, 168, 169, 170, 171, 172, 173, 174, 175, 176, 177, 178, 179, 180, 181, 182, 183, 184, 185, 186, 187, 188, 189, 190, 191, 192, 193, 194, 195, 196, 197, 198, 199, 200, 201, 202, 203, 204, 205, 206, 207, 208, 209, 210, 211, 212, 213, 214, 215, 216, 217, 218, 219, 220, 221, 222, 223], [1425.0, 1442.6153846153845, 1460.2307692307693, 1477.8461538461538, 1495.4615384615386, 1513.076923076923, 1530.6923076923076, 1548.3076923076924, 1565.923076923077, 1583.5384615384614, 1601.1538461538462, 1618.7692307692307, 1636.3846153846155, 1654.0, 1779.2, 1904.4, 2029.6, 2154.8, 2280.0, 2233.4166666666665, 2186.8333333333335, 2140.25, 2093.6666666666665, 2047.0833333333333, 2000.5, 1953.9166666666665, 1907.3333333333333, 1860.75, 1814.1666666666665, 1767.5833333333333, 1721.0, 1738.6666666666667, 1756.3333333333333, 1774.0, 1740.5, 1707.0, 1825.2, 1943.4, 2061.6, 2179.8, 2298.0, 2302.6666666666665, 2307.3333333333335, 2312.0, 2485.08, 2658.16, 2831.24, 3004.32, 3177.4, 3350.48, 3523.5600000000004, 3696.6400000000003, 3869.7200000000003, 4042.8, 4215.88, 4388.96, 4562.04, 4735.120000000001, 4908.200000000001, 5081.280000000001, 5254.360000000001, 5427.4400000000005, 5600.52, 5773.6, 5946.68, 6119.76, 6292.84, 6465.92, 6639.0, 6700.714285714285, 6762.428571428572, 6824.142857142857, 6885.857142857143, 6947.571428571428, 7009.285714285715, 7071.0, 7097.066666666667, 7123.133333333333, 7149.2, 7175.266666666666, 7201.333333333333, 7227.4, 7253.466666666666, 7279.533333333334, 7305.6, 7331.666666666667, 7357.733333333334, 7383.8, 7409.866666666667, 7435.933333333333, 7462.0, 7296.4, 7130.8, 6965.2]]\n"
     ]
    }
   ],
   "source": [
    "print(cut_all_day[40])"
   ]
  },
  {
   "cell_type": "code",
   "execution_count": 45,
   "metadata": {},
   "outputs": [],
   "source": [
    "all_ndvi =[]\n",
    "for parc in cut_all_day : \n",
    "    all_ndvi.append(np.array(parc[1]))"
   ]
  },
  {
   "cell_type": "code",
   "execution_count": 46,
   "metadata": {},
   "outputs": [],
   "source": [
    "all_ndvi_array = np.array(all_ndvi)"
   ]
  },
  {
   "cell_type": "code",
   "execution_count": 47,
   "metadata": {},
   "outputs": [
    {
     "name": "stdout",
     "output_type": "stream",
     "text": [
      "(41, 94)\n"
     ]
    }
   ],
   "source": [
    "print(np.shape(all_ndvi_array))"
   ]
  },
  {
   "cell_type": "code",
   "execution_count": 48,
   "metadata": {},
   "outputs": [
    {
     "name": "stdout",
     "output_type": "stream",
     "text": [
      "[56000 75600 68000 71600 43600 67200 68000 57600 64400 56000 56000 58800\n",
      " 54800 50400 52000 41200 33200 56800 61600 62000 30000 39200 48400 36416\n",
      " 30000 60555 37666 49333 29090 38181 45454 43666 36952 35166 30222 38000\n",
      " 41200 79600 72000 94000 82000]\n"
     ]
    }
   ],
   "source": [
    "print(new_y)"
   ]
  },
  {
   "cell_type": "code",
   "execution_count": 49,
   "metadata": {},
   "outputs": [
    {
     "name": "stdout",
     "output_type": "stream",
     "text": [
      "[1, 2, 2, 2, 0, 2, 2, 1, 2, 1, 1, 1, 1, 1, 1, 0, 0, 1, 2, 2, 0, 0, 1, 0, 0, 2, 0, 1, 0, 0, 1, 0, 0, 0, 0, 0, 0, 2, 2, 2, 2]\n"
     ]
    }
   ],
   "source": [
    "test_class_y =[]\n",
    "for i in range(len(new_y)): \n",
    "    if new_y[i] > 60000 : \n",
    "        test_class_y.append(2)\n",
    "    elif new_y[i] > 45000 : \n",
    "        test_class_y.append(1)\n",
    "    else : \n",
    "        test_class_y.append(0)\n",
    "print(test_class_y)"
   ]
  },
  {
   "cell_type": "code",
   "execution_count": 50,
   "metadata": {},
   "outputs": [
    {
     "name": "stdout",
     "output_type": "stream",
     "text": [
      "16 12 13\n"
     ]
    }
   ],
   "source": [
    "class1 = 0\n",
    "class2 = 0\n",
    "class0 = 0\n",
    "for i in range(len(test_class_y)):\n",
    "    if test_class_y[i] ==1 :\n",
    "        class1 += 1\n",
    "    elif test_class_y[i] ==2 : \n",
    "        class2 += 1\n",
    "    else :\n",
    "        class0 += 1\n",
    "\n",
    "print (class0,class1,class2)"
   ]
  },
  {
   "cell_type": "code",
   "execution_count": 51,
   "metadata": {},
   "outputs": [
    {
     "name": "stderr",
     "output_type": "stream",
     "text": [
      "2023-02-09 11:54:52.677418: I tensorflow/core/platform/cpu_feature_guard.cc:193] This TensorFlow binary is optimized with oneAPI Deep Neural Network Library (oneDNN) to use the following CPU instructions in performance-critical operations:  AVX2 FMA\n",
      "To enable them in other operations, rebuild TensorFlow with the appropriate compiler flags.\n",
      "/Users/louis/opt/miniconda3/lib/python3.9/site-packages/requests/__init__.py:102: RequestsDependencyWarning: urllib3 (1.26.8) or chardet (5.0.0)/charset_normalizer (2.0.4) doesn't match a supported version!\n",
      "  warnings.warn(\"urllib3 ({}) or chardet ({})/charset_normalizer ({}) doesn't match a supported \"\n"
     ]
    }
   ],
   "source": [
    "# Author: Romain Tavenard\n",
    "# License: BSD 3 clause\n",
    "\n",
    "import numpy\n",
    "from sklearn.metrics import accuracy_score\n",
    "import tensorflow as tf\n",
    "import matplotlib.pyplot as plt\n",
    "\n",
    "from tslearn.datasets import CachedDatasets\n",
    "from tslearn.preprocessing import TimeSeriesScalerMinMax\n",
    "from tslearn.shapelets import LearningShapelets, \\\n",
    "    grabocka_params_to_shapelet_size_dict\n",
    "from tslearn.utils import ts_size\n",
    "from sklearn.model_selection import GridSearchCV, cross_val_score, train_test_split"
   ]
  },
  {
   "cell_type": "code",
   "execution_count": 52,
   "metadata": {},
   "outputs": [],
   "source": [
    "# Set seed for determinism\n",
    "numpy.random.seed(0)\n",
    "\n",
    "# Load the Trace dataset\n",
    "X_train, X_test, y_train, y_test = train_test_split(all_ndvi_array, test_class_y, test_size=0.25, random_state=0)"
   ]
  },
  {
   "cell_type": "code",
   "execution_count": 53,
   "metadata": {},
   "outputs": [],
   "source": [
    "# Normalize each of the timeseries in the Trace dataset\n",
    "X_train = TimeSeriesScalerMinMax().fit_transform(X_train)\n",
    "X_test = TimeSeriesScalerMinMax().fit_transform(X_test)\n"
   ]
  },
  {
   "cell_type": "code",
   "execution_count": 54,
   "metadata": {},
   "outputs": [
    {
     "name": "stdout",
     "output_type": "stream",
     "text": [
      "[0, 2, 2, 2, 2, 0, 1, 0, 2, 2, 1, 2, 1, 1, 0, 1, 0, 2, 0, 1, 0, 0, 2, 0, 0, 2, 1, 2, 2, 1]\n"
     ]
    }
   ],
   "source": [
    "print(y_train)"
   ]
  },
  {
   "cell_type": "code",
   "execution_count": 55,
   "metadata": {},
   "outputs": [
    {
     "name": "stdout",
     "output_type": "stream",
     "text": [
      "{0, 1, 2}\n"
     ]
    }
   ],
   "source": [
    "print(set(y_train))"
   ]
  },
  {
   "cell_type": "code",
   "execution_count": 56,
   "metadata": {},
   "outputs": [
    {
     "name": "stdout",
     "output_type": "stream",
     "text": [
      "(30, 94)\n",
      "3\n"
     ]
    }
   ],
   "source": [
    "print (X_train.shape[:2])\n",
    "print(len(set(y_train)))"
   ]
  },
  {
   "cell_type": "code",
   "execution_count": 57,
   "metadata": {},
   "outputs": [],
   "source": [
    "# Get statistics of the dataset\n",
    "n_ts, ts_sz = X_train.shape[:2]\n",
    "n_classes = len(set(y_train))\n"
   ]
  },
  {
   "cell_type": "code",
   "execution_count": 58,
   "metadata": {},
   "outputs": [],
   "source": [
    "\n",
    "# Set the number of shapelets per size as done in the original paper\n",
    "shapelet_sizes = grabocka_params_to_shapelet_size_dict(n_ts=n_ts,\n",
    "                                                       ts_sz=ts_sz,\n",
    "                                                       n_classes=n_classes,\n",
    "                                                       l=0.1,\n",
    "                                                       r=1)"
   ]
  },
  {
   "cell_type": "code",
   "execution_count": 59,
   "metadata": {},
   "outputs": [
    {
     "name": "stdout",
     "output_type": "stream",
     "text": [
      "{9: 3}\n"
     ]
    }
   ],
   "source": [
    "print(shapelet_sizes)"
   ]
  },
  {
   "cell_type": "code",
   "execution_count": 60,
   "metadata": {},
   "outputs": [
    {
     "name": "stdout",
     "output_type": "stream",
     "text": [
      "6\n"
     ]
    }
   ],
   "source": [
    "print(int(6.8))"
   ]
  },
  {
   "cell_type": "code",
   "execution_count": 61,
   "metadata": {},
   "outputs": [
    {
     "name": "stderr",
     "output_type": "stream",
     "text": [
      "/Users/louis/opt/miniconda3/lib/python3.9/site-packages/tslearn/shapelets/shapelets.py:354: FutureWarning: The default value for 'scale' is set to False in version 0.4 to ensure backward compatibility, but is likely to change in a future version.\n",
      "  warnings.warn(\"The default value for 'scale' is set to False \"\n"
     ]
    }
   ],
   "source": [
    "# Define the model using parameters provided by the authors (except that we\n",
    "# use fewer iterations here)\n",
    "shp_clf = LearningShapelets(n_shapelets_per_size = shapelet_sizes)"
   ]
  },
  {
   "cell_type": "code",
   "execution_count": 62,
   "metadata": {},
   "outputs": [
    {
     "name": "stderr",
     "output_type": "stream",
     "text": [
      "2023-02-09 11:55:10.361714: I tensorflow/core/platform/cpu_feature_guard.cc:193] This TensorFlow binary is optimized with oneAPI Deep Neural Network Library (oneDNN) to use the following CPU instructions in performance-critical operations:  AVX2 FMA\n",
      "To enable them in other operations, rebuild TensorFlow with the appropriate compiler flags.\n"
     ]
    },
    {
     "data": {
      "text/html": [
       "<style>#sk-container-id-1 {color: black;background-color: white;}#sk-container-id-1 pre{padding: 0;}#sk-container-id-1 div.sk-toggleable {background-color: white;}#sk-container-id-1 label.sk-toggleable__label {cursor: pointer;display: block;width: 100%;margin-bottom: 0;padding: 0.3em;box-sizing: border-box;text-align: center;}#sk-container-id-1 label.sk-toggleable__label-arrow:before {content: \"▸\";float: left;margin-right: 0.25em;color: #696969;}#sk-container-id-1 label.sk-toggleable__label-arrow:hover:before {color: black;}#sk-container-id-1 div.sk-estimator:hover label.sk-toggleable__label-arrow:before {color: black;}#sk-container-id-1 div.sk-toggleable__content {max-height: 0;max-width: 0;overflow: hidden;text-align: left;background-color: #f0f8ff;}#sk-container-id-1 div.sk-toggleable__content pre {margin: 0.2em;color: black;border-radius: 0.25em;background-color: #f0f8ff;}#sk-container-id-1 input.sk-toggleable__control:checked~div.sk-toggleable__content {max-height: 200px;max-width: 100%;overflow: auto;}#sk-container-id-1 input.sk-toggleable__control:checked~label.sk-toggleable__label-arrow:before {content: \"▾\";}#sk-container-id-1 div.sk-estimator input.sk-toggleable__control:checked~label.sk-toggleable__label {background-color: #d4ebff;}#sk-container-id-1 div.sk-label input.sk-toggleable__control:checked~label.sk-toggleable__label {background-color: #d4ebff;}#sk-container-id-1 input.sk-hidden--visually {border: 0;clip: rect(1px 1px 1px 1px);clip: rect(1px, 1px, 1px, 1px);height: 1px;margin: -1px;overflow: hidden;padding: 0;position: absolute;width: 1px;}#sk-container-id-1 div.sk-estimator {font-family: monospace;background-color: #f0f8ff;border: 1px dotted black;border-radius: 0.25em;box-sizing: border-box;margin-bottom: 0.5em;}#sk-container-id-1 div.sk-estimator:hover {background-color: #d4ebff;}#sk-container-id-1 div.sk-parallel-item::after {content: \"\";width: 100%;border-bottom: 1px solid gray;flex-grow: 1;}#sk-container-id-1 div.sk-label:hover label.sk-toggleable__label {background-color: #d4ebff;}#sk-container-id-1 div.sk-serial::before {content: \"\";position: absolute;border-left: 1px solid gray;box-sizing: border-box;top: 0;bottom: 0;left: 50%;z-index: 0;}#sk-container-id-1 div.sk-serial {display: flex;flex-direction: column;align-items: center;background-color: white;padding-right: 0.2em;padding-left: 0.2em;position: relative;}#sk-container-id-1 div.sk-item {position: relative;z-index: 1;}#sk-container-id-1 div.sk-parallel {display: flex;align-items: stretch;justify-content: center;background-color: white;position: relative;}#sk-container-id-1 div.sk-item::before, #sk-container-id-1 div.sk-parallel-item::before {content: \"\";position: absolute;border-left: 1px solid gray;box-sizing: border-box;top: 0;bottom: 0;left: 50%;z-index: -1;}#sk-container-id-1 div.sk-parallel-item {display: flex;flex-direction: column;z-index: 1;position: relative;background-color: white;}#sk-container-id-1 div.sk-parallel-item:first-child::after {align-self: flex-end;width: 50%;}#sk-container-id-1 div.sk-parallel-item:last-child::after {align-self: flex-start;width: 50%;}#sk-container-id-1 div.sk-parallel-item:only-child::after {width: 0;}#sk-container-id-1 div.sk-dashed-wrapped {border: 1px dashed gray;margin: 0 0.4em 0.5em 0.4em;box-sizing: border-box;padding-bottom: 0.4em;background-color: white;}#sk-container-id-1 div.sk-label label {font-family: monospace;font-weight: bold;display: inline-block;line-height: 1.2em;}#sk-container-id-1 div.sk-label-container {text-align: center;}#sk-container-id-1 div.sk-container {/* jupyter's `normalize.less` sets `[hidden] { display: none; }` but bootstrap.min.css set `[hidden] { display: none !important; }` so we also need the `!important` here to be able to override the default hidden behavior on the sphinx rendered scikit-learn.org. See: https://github.com/scikit-learn/scikit-learn/issues/21755 */display: inline-block !important;position: relative;}#sk-container-id-1 div.sk-text-repr-fallback {display: none;}</style><div id=\"sk-container-id-1\" class=\"sk-top-container\"><div class=\"sk-text-repr-fallback\"><pre>LearningShapelets(n_shapelets_per_size={9: 3})</pre><b>In a Jupyter environment, please rerun this cell to show the HTML representation or trust the notebook. <br />On GitHub, the HTML representation is unable to render, please try loading this page with nbviewer.org.</b></div><div class=\"sk-container\" hidden><div class=\"sk-item\"><div class=\"sk-estimator sk-toggleable\"><input class=\"sk-toggleable__control sk-hidden--visually\" id=\"sk-estimator-id-1\" type=\"checkbox\" checked><label for=\"sk-estimator-id-1\" class=\"sk-toggleable__label sk-toggleable__label-arrow\">LearningShapelets</label><div class=\"sk-toggleable__content\"><pre>LearningShapelets(n_shapelets_per_size={9: 3})</pre></div></div></div></div></div>"
      ],
      "text/plain": [
       "LearningShapelets(n_shapelets_per_size={9: 3})"
      ]
     },
     "execution_count": 62,
     "metadata": {},
     "output_type": "execute_result"
    }
   ],
   "source": [
    "shp_clf.fit(X_train, y_train)"
   ]
  },
  {
   "cell_type": "code",
   "execution_count": 63,
   "metadata": {},
   "outputs": [
    {
     "name": "stdout",
     "output_type": "stream",
     "text": [
      "Correct classification rate: 0.09090909090909091\n"
     ]
    }
   ],
   "source": [
    "# Make predictions and calculate accuracy score\n",
    "pred_labels = shp_clf.predict(X_test)\n",
    "print(\"Correct classification rate:\", accuracy_score(y_test, pred_labels))"
   ]
  },
  {
   "cell_type": "code",
   "execution_count": 64,
   "metadata": {},
   "outputs": [
    {
     "name": "stdout",
     "output_type": "stream",
     "text": [
      "[2 2 2 2 2 2 2 2 2 2 2]\n",
      "[2, 0, 0, 0, 1, 0, 1, 1, 0, 1, 0]\n"
     ]
    }
   ],
   "source": [
    "print (pred_labels)\n",
    "print(y_test)"
   ]
  },
  {
   "cell_type": "code",
   "execution_count": 65,
   "metadata": {},
   "outputs": [
    {
     "data": {
      "image/png": "[encoded data removed]",
      "text/plain": [
       "<Figure size 640x480 with 1 Axes>"
      ]
     },
     "metadata": {},
     "output_type": "display_data"
    },
    {
     "data": {
      "image/png": "[encoded data removed]",
      "text/plain": [
       "<Figure size 640x480 with 1 Axes>"
      ]
     },
     "metadata": {},
     "output_type": "display_data"
    }
   ],
   "source": [
    "# Plot the different discovered shapelets\n",
    "plt.figure()\n",
    "for i, sz in enumerate(shapelet_sizes.keys()):\n",
    "    plt.subplot(len(shapelet_sizes), 1, i + 1)\n",
    "    plt.title(\"%d shapelets of size %d\" % (shapelet_sizes[sz], sz))\n",
    "    for shp in shp_clf.shapelets_:\n",
    "        if ts_size(shp) == sz:\n",
    "            plt.plot(shp.ravel())\n",
    "    plt.xlim([0, max(shapelet_sizes.keys()) - 1])\n",
    "\n",
    "plt.tight_layout()\n",
    "plt.show()\n",
    "\n",
    "# The loss history is accessible via the `model_` that is a keras model\n",
    "plt.figure()\n",
    "plt.plot(numpy.arange(1, shp_clf.n_iter_ + 1), shp_clf.history_[\"loss\"])\n",
    "plt.title(\"Evolution of cross-entropy loss during training\")\n",
    "plt.xlabel(\"Epochs\")\n",
    "plt.show()"
   ]
  },
  {
   "cell_type": "code",
   "execution_count": 66,
   "metadata": {},
   "outputs": [
    {
     "name": "stderr",
     "output_type": "stream",
     "text": [
      "/Users/louis/opt/miniconda3/lib/python3.9/site-packages/tqdm/auto.py:22: TqdmWarning: IProgress not found. Please update jupyter and ipywidgets. See https://ipywidgets.readthedocs.io/en/stable/user_install.html\n",
      "  from .autonotebook import tqdm as notebook_tqdm\n"
     ]
    }
   ],
   "source": [
    "import math\n",
    "import random\n",
    "import numpy\n",
    "from matplotlib import pyplot\n",
    "from matplotlib import cm\n",
    "from sklearn.preprocessing import StandardScaler\n",
    "from tslearn.clustering import TimeSeriesKMeans\n",
    "import torch\n",
    "from torch import nn, optim"
   ]
  },
  {
   "cell_type": "code",
   "execution_count": 67,
   "metadata": {},
   "outputs": [],
   "source": [
    "# Path to root of this project, contains lots of modules\n",
    "import sys\n",
    "sys.path.insert(0, os.path.abspath('../'))\n",
    "sys.path.insert(0, os.getcwd())"
   ]
  },
  {
   "cell_type": "code",
   "execution_count": 68,
   "metadata": {},
   "outputs": [],
   "source": [
    "from src.learning_shapelets import LearningShapelets"
   ]
  },
  {
   "cell_type": "code",
   "execution_count": 69,
   "metadata": {},
   "outputs": [],
   "source": [
    "def normalize_standard(X, scaler=None):\n",
    "    shape = X.shape\n",
    "    data_flat = X.flatten()\n",
    "    if scaler is None:\n",
    "        scaler = StandardScaler()\n",
    "        data_transformed = scaler.fit_transform(data_flat.reshape(numpy.product(shape), 1)).reshape(shape)\n",
    "    else:\n",
    "        data_transformed = scaler.transform(data_flat.reshape(numpy.product(shape), 1)).reshape(shape)\n",
    "    return data_transformed, scaler\n",
    "\n",
    "def normalize_data(X, scaler=None):\n",
    "    if scaler is None:\n",
    "        X, scaler = normalize_standard(X)\n",
    "    else:\n",
    "        X, scaler = normalize_standard(X, scaler)\n",
    "    \n",
    "    return X, scaler"
   ]
  },
  {
   "cell_type": "code",
   "execution_count": 73,
   "metadata": {},
   "outputs": [],
   "source": [
    "# normalize training data\n",
    "X_train, scaler = normalize_data(X_train)"
   ]
  },
  {
   "cell_type": "code",
   "execution_count": 77,
   "metadata": {},
   "outputs": [
    {
     "data": {
      "text/plain": [
       "[<matplotlib.lines.Line2D at 0x7fe728311e80>]"
      ]
     },
     "execution_count": 77,
     "metadata": {},
     "output_type": "execute_result"
    },
    {
     "data": {
      "image/png": "[encoded data removed]",
      "text/plain": [
       "<Figure size 640x480 with 1 Axes>"
      ]
     },
     "metadata": {},
     "output_type": "display_data"
    }
   ],
   "source": [
    "pyplot.title(\"Sample from the data\")\n",
    "pyplot.plot(X_train[0], color='black')"
   ]
  },
  {
   "cell_type": "code",
   "execution_count": 78,
   "metadata": {},
   "outputs": [
    {
     "name": "stdout",
     "output_type": "stream",
     "text": [
      "(30, 94, 1)\n"
     ]
    }
   ],
   "source": [
    "print(X_train.shape)"
   ]
  },
  {
   "cell_type": "code",
   "execution_count": null,
   "metadata": {},
   "outputs": [],
   "source": [
    "np.reshape(X_train[0])"
   ]
  },
  {
   "cell_type": "code",
   "execution_count": null,
   "metadata": {},
   "outputs": [],
   "source": [
    "def sample_ts_segments(X, shapelets_size, n_segments=10000):\n",
    "    \"\"\"\n",
    "    Sample time series segments for k-Means.\n",
    "    \"\"\"\n",
    "    n_ts, n_channels, len_ts = X.shape\n",
    "    samples_i = random.choices(range(n_ts), k=n_segments)\n",
    "    segments = numpy.empty((n_segments, n_channels, shapelets_size))\n",
    "    for i, k in enumerate(samples_i):\n",
    "        s = random.randint(0, len_ts - shapelets_size)\n",
    "        segments[i] = X[k, :, s:s+shapelets_size]\n",
    "    return segments"
   ]
  }
 ],
 "metadata": {
  "kernelspec": {
   "display_name": "base",
   "language": "python",
   "name": "python3"
  },
  "language_info": {
   "codemirror_mode": {
    "name": "ipython",
    "version": 3
   },
   "file_extension": ".py",
   "mimetype": "text/x-python",
   "name": "python",
   "nbconvert_exporter": "python",
   "pygments_lexer": "ipython3",
   "version": "3.9.12 (main, Apr  5 2022, 01:53:17) \n[Clang 12.0.0 ]"
  },
  "orig_nbformat": 4,
  "vscode": {
   "interpreter": {
    "hash": "977f9d2e455d2b6cd8f4f8ab88366a61d3a4c7ae8f08a6d218b82c9c3e551156"
   }
  }
 },
 "nbformat": 4,
 "nbformat_minor": 2
}
