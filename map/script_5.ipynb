{
 "cells": [
  {
   "attachments": {},
   "cell_type": "markdown",
   "metadata": {},
   "source": [
    "# Cartographie des peuplements et NDVI\n",
    "## Librairies"
   ]
  },
  {
   "cell_type": "code",
   "execution_count": 540,
   "metadata": {},
   "outputs": [],
   "source": [
    "import pandas as pd\n",
    "import folium\n",
    "from folium.plugins import MarkerCluster, GroupedLayerControl\n",
    "import geopandas as gpd\n",
    "from sklearn.cluster import KMeans\n",
    "import matplotlib.cm as cm\n",
    "import matplotlib.colors as colors\n",
    "import os\n",
    "from matplotlib.colors import Normalize\n",
    "import seaborn as sns\n",
    "import matplotlib.pyplot as plt\n",
    "\n",
    "\n",
    "directory = os.getcwd()"
   ]
  },
  {
   "attachments": {},
   "cell_type": "markdown",
   "metadata": {},
   "source": [
    "## Importations et pre-processing"
   ]
  },
  {
   "cell_type": "code",
   "execution_count": 541,
   "metadata": {},
   "outputs": [],
   "source": [
    "# Importation données de peuplement\n",
    "data1 = pd.read_excel(f\"{directory}/donnees/peuplement/donnees2022_BA-2.xlsx\")\n",
    "data1 = data1.loc[:,[\"parcelle\",\"date\",\"latitude_GPS\", \"longitude_GPS\", \"peuplement\"]]\n",
    "\n",
    "data2 = pd.read_excel(f\"{directory}/donnees/peuplement/Placette_TRN22_beauce.xlsx\")\n",
    "data2 = data2.loc[:,[\"numero_parcelle\",\"date_obs\",\"latitude_GPS\", \"longitude_GPS\", \"peuplement\"]]\n",
    "data2.rename(columns={'numero_parcelle': 'parcelle',\n",
    "                   'date_obs': 'date',\n",
    "                   'latitude_GPS': 'latitude_GPS',\n",
    "                   'longitude_GPS': 'longitude_GPS',\n",
    "                   'peuplement': 'peuplement'}, inplace = True)\n",
    "\n",
    "data3 = pd.read_csv(f\"{directory}/donnees/peuplement/comptages_yonne_2022.csv\", sep = \";\", parse_dates = [\"date\"], dayfirst = True)\n",
    "data3 = data3.loc[:,[\"id_parcelle\",\"date\",\"latitude\",\"longitude\", \"peuplement\"]]\n",
    "data3.rename(columns={'id_parcelle': 'parcelle',\n",
    "                   'date': 'date',\n",
    "                   'latitude': 'latitude_GPS',\n",
    "                   'longitude': 'longitude_GPS',\n",
    "                   'peuplement': 'peuplement'}, inplace = True)\n",
    "data3[\"latitude_GPS\"] = data3[\"latitude_GPS\"].str.replace(\",\", \".\")\n",
    "data3[\"longitude_GPS\"] = data3[\"longitude_GPS\"].str.replace(\",\", \".\")\n",
    "data3[\"peuplement\"] = data3[\"peuplement\"].str.replace(\",\", \".\")\n",
    "\n",
    "donnees_ppm = pd.concat([data1, data2, data3])\n",
    "donnees_ppm.dropna(subset=['latitude_GPS', 'longitude_GPS', 'peuplement'], inplace = True)\n",
    "\n",
    "donnees_ppm[\"parcelle\"] = donnees_ppm['parcelle'].astype(str)\n",
    "donnees_ppm[\"latitude_GPS\"] = donnees_ppm['latitude_GPS'].astype(float)\n",
    "donnees_ppm[\"longitude_GPS\"] = donnees_ppm['longitude_GPS'].astype(float)\n",
    "donnees_ppm[\"peuplement\"] = donnees_ppm['peuplement'].astype(float)\n",
    "\n",
    "donnees_ppm['parcelle'] = donnees_ppm['parcelle'].astype('string')\n",
    "donnees_ppm[\"parcelle\"] = donnees_ppm[\"parcelle\"].map(lambda x:x.replace('_','').lower())"
   ]
  },
  {
   "cell_type": "code",
   "execution_count": 542,
   "metadata": {},
   "outputs": [
    {
     "name": "stdout",
     "output_type": "stream",
     "text": [
      "      parcelle       date  latitude_GPS  longitude_GPS  peuplement\n",
      "0    tiravard1 2022-04-28     46.249431      -0.641666     31000.0\n",
      "1    tiravard1 2022-04-28     46.249444      -0.641389     35000.0\n",
      "2    tiravard1 2022-04-28     46.249722      -0.641578     42000.0\n",
      "3    tiravard1 2022-04-28     46.249875      -0.641711     34000.0\n",
      "4    tiravard1 2022-04-28     46.250031      -0.641666     35000.0\n",
      "..         ...        ...           ...            ...         ...\n",
      "109         20 2020-06-07     47.665270       3.470940     54000.0\n",
      "110         20 2020-06-07     47.666060       3.471180     54000.0\n",
      "111         20 2020-06-07     47.666810       3.471520     58000.0\n",
      "112         20 2020-06-07     47.667770       3.471670     58000.0\n",
      "113         20 2020-06-07     47.668330       3.472100     32000.0\n",
      "\n",
      "[546 rows x 5 columns]\n"
     ]
    }
   ],
   "source": [
    "print(donnees_ppm)"
   ]
  },
  {
   "cell_type": "code",
   "execution_count": 543,
   "metadata": {},
   "outputs": [],
   "source": [
    "# Importation données NDVI\n",
    "donnees_ndvi = pd.read_csv(f\"{directory}/donnees/resultats_new.csv\", sep = \";\", parse_dates = [\"date\"], dayfirst = True)\n",
    "donnees_ndvi = donnees_ndvi.loc[:,[\"parcelle\",\"date\",\"NDVI_moy\"]]\n",
    "\n",
    "donnees_ndvi['parcelle'] = donnees_ndvi['parcelle'].astype('string')\n",
    "donnees_ndvi[\"parcelle\"] = donnees_ndvi[\"parcelle\"].map(lambda x:x.replace('_','').lower())\n",
    "\n",
    "donnees_ndvi.columns = donnees_ndvi.columns.str.replace('NDVI_moy', 'ndvi_moy')\n",
    "\n",
    "donnees_ndvi[\"annee\"] = donnees_ndvi[\"date\"].dt.year # on utilise cette colonne annee pour les jointures pr récup le peuplement et le précédent\n",
    "donnees_ndvi[\"annee\"] = donnees_ndvi[\"annee\"].astype('string')\n",
    "donnees_ndvi = donnees_ndvi.loc[:,[\"parcelle\",\"ndvi_moy\", \"annee\"]]"
   ]
  },
  {
   "cell_type": "code",
   "execution_count": 544,
   "metadata": {},
   "outputs": [
    {
     "name": "stdout",
     "output_type": "stream",
     "text": [
      "         parcelle  ndvi_moy annee\n",
      "0        aubiet11      1616  2022\n",
      "1        aubiet11      1765  2022\n",
      "2        aubiet11      2428  2022\n",
      "3        aubiet11      1998  2022\n",
      "4        aubiet11      1692  2022\n",
      "...           ...       ...   ...\n",
      "1435  209gers2020      5720  2020\n",
      "1436  209gers2020      5398  2020\n",
      "1437  209gers2020      5589  2020\n",
      "1438  209gers2020      5652  2020\n",
      "1439  209gers2020      5812  2020\n",
      "\n",
      "[1440 rows x 3 columns]\n"
     ]
    }
   ],
   "source": [
    "print(donnees_ndvi)"
   ]
  },
  {
   "cell_type": "code",
   "execution_count": 545,
   "metadata": {},
   "outputs": [],
   "source": [
    "# Regroupement peuplement par parcelle\n",
    "donnees_ppm_groupees = donnees_ppm.groupby(\"parcelle\").agg(\n",
    "    {\n",
    "        \"date\": \"first\",\n",
    "        \"latitude_GPS\": \"mean\",\n",
    "        \"longitude_GPS\": \"mean\",\n",
    "        \"peuplement\": \"mean\"\n",
    "    }\n",
    ")\n",
    "\n",
    "# reset l'index pour avoir un dataframe en colonne et non en index\n",
    "donnees_ppm_groupees = donnees_ppm_groupees.reset_index()"
   ]
  },
  {
   "cell_type": "code",
   "execution_count": 546,
   "metadata": {},
   "outputs": [
    {
     "name": "stdout",
     "output_type": "stream",
     "text": [
      "       parcelle       date  latitude_GPS  longitude_GPS    peuplement\n",
      "0          0222 2022-05-17     48.082200       2.300080  70400.000000\n",
      "1          0522 2022-05-17     48.090820       2.281600  64800.000000\n",
      "2          0622 2022-05-17     48.081940       2.274540  52800.000000\n",
      "3             1 2020-05-16     47.628226       3.486882  43555.555556\n",
      "4            10 2020-05-17     47.705306       3.465002  28800.000000\n",
      "..          ...        ...           ...            ...           ...\n",
      "90  tirosieres4 2022-05-16     48.788845       6.018055  41200.000000\n",
      "91   tivillers5 2022-05-09     48.819288       6.007271  79600.000000\n",
      "92   tivillers6 2022-05-09     48.818028       6.007171  72000.000000\n",
      "93   tivillers7 2022-05-09     48.816633       6.001049  94000.000000\n",
      "94   tivillers8 2022-05-09     48.819315       6.000279  82000.000000\n",
      "\n",
      "[95 rows x 5 columns]\n"
     ]
    }
   ],
   "source": [
    "print(donnees_ppm_groupees)"
   ]
  },
  {
   "cell_type": "code",
   "execution_count": 547,
   "metadata": {},
   "outputs": [],
   "source": [
    "# Regroupement NDVI par parcelle\n",
    "donnees_ndvi_groupees = donnees_ndvi.groupby(\"parcelle\").agg(\n",
    "    {\n",
    "        \"annee\": \"first\",\n",
    "        \"ndvi_moy\": \"mean\",\n",
    "    }\n",
    ")\n",
    "\n",
    "# Reset l'index pour avoir un dataframe en colonne et non en index\n",
    "donnees_ndvi_groupees = donnees_ndvi_groupees.reset_index()\n",
    "\n",
    "# Remove\n",
    "donnees_ndvi_groupees = donnees_ndvi_groupees[donnees_ndvi_groupees['parcelle'].isin(donnees_ppm_groupees['parcelle'])]\n",
    "\n",
    "# Merge\n",
    "donnees_ndvi_groupees = donnees_ndvi_groupees.merge(donnees_ppm_groupees[['parcelle', 'latitude_GPS', 'longitude_GPS']], on='parcelle')"
   ]
  },
  {
   "cell_type": "code",
   "execution_count": 548,
   "metadata": {},
   "outputs": [
    {
     "name": "stdout",
     "output_type": "stream",
     "text": [
      "        parcelle annee     ndvi_moy  latitude_GPS  longitude_GPS\n",
      "0           0222  2022  4592.625000     48.082200       2.300080\n",
      "1           0522  2022  6461.333333     48.090820       2.281600\n",
      "2           0622  2022  5339.800000     48.081940       2.274540\n",
      "3           1722  2022  5518.000000     48.068150       2.353575\n",
      "4           2822  2022  4873.666667     48.181345       2.483060\n",
      "5           2922  2022  4367.100000     48.182662       2.485827\n",
      "6           3822  2022  5346.100000     48.079674       2.348550\n",
      "7           4222  2022  4905.818182     48.076626       2.289709\n",
      "8           4422  2022  5758.800000     48.061970       2.355677\n",
      "9           4522  2022  4350.700000     48.046093       2.359616\n",
      "10          4722  2022  5223.700000     48.044558       2.361880\n",
      "11          5222  2022  4809.900000     48.057543       2.350939\n",
      "12          5322  2022  7281.937500     48.201633       2.035381\n",
      "13          5422  2022  5699.636364     48.136880       2.278060\n",
      "14          6222  2022  4215.222222     48.208556       2.514117\n",
      "15          6322  2022  4468.333333     48.213014       2.515924\n",
      "16          6622  2022  4589.055556     48.250060       2.032000\n",
      "17          6722  2022  5118.944444     48.239380       2.048320\n",
      "18          7122  2022  5112.600000     48.062460       2.359140\n",
      "19          7322  2022  5004.200000     48.035360       2.438300\n",
      "20          7422  2022  5048.235294     48.296520       2.112880\n",
      "21          7522  2022  5029.833333     48.286960       2.126440\n",
      "22          7622  2022  4876.875000     48.199200       2.041840\n",
      "23          7822  2022  5193.727273     48.030820       2.372600\n",
      "24          8222  2022  5768.555556     48.029560       2.433140\n",
      "25          8822  2022  5266.300000     48.033440       2.436860\n",
      "26      aubiet11  2022  3230.500000     43.640493       0.781948\n",
      "27      aubiet22  2022  3682.062500     43.638388       0.782139\n",
      "28    coulonges2  2022  5855.642857     46.499275      -0.599919\n",
      "29       fdgeda1  2022  3399.142857     46.932824       2.408868\n",
      "30       fdgeda2  2022  3853.692308     46.937882       2.417130\n",
      "31       fdgeda6  2022  3694.727273     46.994470       2.271682\n",
      "32       fdgeda7  2022  3930.909091     46.991228       2.269444\n",
      "33       fdgeda8  2022  3875.545455     46.994354       2.275668\n",
      "34  lamagistere3  2022  4976.363636     44.140160       0.825337\n",
      "35       tiagen1  2022  4941.352941     44.030349       0.499093\n",
      "36     tiravard1  2022  3581.083333     46.249701      -0.641666\n",
      "37   tirosieres1  2022  4277.733333     48.785364       6.006258\n",
      "38   tirosieres3  2022  3594.172414     48.790447       6.012727\n",
      "39   tirosieres4  2022  3190.413793     48.788845       6.018055\n",
      "40    tivillers5  2022  3804.250000     48.819288       6.007271\n",
      "41    tivillers6  2022  4104.142857     48.818028       6.007171\n",
      "42    tivillers7  2022  3637.038462     48.816633       6.001049\n",
      "43    tivillers8  2022  3357.720000     48.819315       6.000279\n"
     ]
    }
   ],
   "source": [
    "print(donnees_ndvi_groupees)"
   ]
  },
  {
   "attachments": {},
   "cell_type": "markdown",
   "metadata": {},
   "source": [
    "## Création de la carte"
   ]
  },
  {
   "cell_type": "code",
   "execution_count": 549,
   "metadata": {},
   "outputs": [],
   "source": [
    "# Initialiser une carte de France centrée sur les coordonnées (46.2276, 2.2137)\n",
    "carte = folium.Map(location=[46.2276, 2.2137], zoom_start=6)\n",
    "\n",
    "# Initialiser un cluster de marqueurs\n",
    "vec_marker = MarkerCluster()\n",
    "marqueurs = vec_marker.add_to(carte)\n",
    "\n",
    "# Définition des couches pour les données de peuplement et de NDVI\n",
    "peuplement_layer = folium.FeatureGroup(name='Peuplement')\n",
    "ndvi_layer = folium.FeatureGroup(name='NDVI')"
   ]
  },
  {
   "attachments": {},
   "cell_type": "markdown",
   "metadata": {},
   "source": [
    "### Couche des peuplements"
   ]
  },
  {
   "cell_type": "code",
   "execution_count": 550,
   "metadata": {},
   "outputs": [],
   "source": [
    "def regrouper_en_regions(donnees, nb_regions):\n",
    "    kmeans = KMeans(n_clusters=nb_regions)\n",
    "    kmeans.fit(donnees[[\"latitude_GPS\", \"longitude_GPS\"]])\n",
    "    donnees[\"region\"] = kmeans.predict(donnees[[\"latitude_GPS\", \"longitude_GPS\"]])\n",
    "    return donnees, kmeans.cluster_centers_"
   ]
  },
  {
   "cell_type": "code",
   "execution_count": 551,
   "metadata": {},
   "outputs": [],
   "source": [
    "donnees_ppm_groupees, centres = regrouper_en_regions(donnees_ppm_groupees, 5)"
   ]
  },
  {
   "cell_type": "code",
   "execution_count": 552,
   "metadata": {},
   "outputs": [
    {
     "name": "stdout",
     "output_type": "stream",
     "text": [
      "   region    peuplement\n",
      "0       0  51223.400409\n",
      "1       1  60777.777778\n",
      "2       2  36498.511905\n",
      "3       3  46042.568543\n",
      "4       4  32623.746299\n"
     ]
    }
   ],
   "source": [
    "peuplement_moyen_par_region = donnees_ppm_groupees.groupby(\"region\")[\"peuplement\"].mean().reset_index()\n",
    "print(peuplement_moyen_par_region)"
   ]
  },
  {
   "cell_type": "code",
   "execution_count": 553,
   "metadata": {},
   "outputs": [],
   "source": [
    "# Définir la palette de couleurs en fonction du peuplement moyen\n",
    "peuplement_min = peuplement_moyen_par_region['peuplement'].min()\n",
    "peuplement_max = peuplement_moyen_par_region['peuplement'].max()\n",
    "norm = colors.Normalize(vmin=peuplement_min, vmax=peuplement_max)\n",
    "mapper = cm.ScalarMappable(norm=norm, cmap='Blues')"
   ]
  },
  {
   "cell_type": "code",
   "execution_count": 554,
   "metadata": {},
   "outputs": [],
   "source": [
    "for region, peuplement in zip(peuplement_moyen_par_region[\"region\"], peuplement_moyen_par_region[\"peuplement\"]):\n",
    "\tcolor = mapper.to_rgba(peuplement)\n",
    "\tfolium.Circle(\n",
    "\t\tlocation=centres[region],\n",
    "\t\tradius=peuplement*1.3,\n",
    "\t\tpopup=f\"Région: {region} \\nPeuplement moyen: {peuplement}\",\n",
    "\t\tcolor=color,\n",
    "\t\tfill=True,\n",
    "\t\tfill_color=color\n",
    "\t).add_to(peuplement_layer)"
   ]
  },
  {
   "cell_type": "code",
   "execution_count": 555,
   "metadata": {},
   "outputs": [],
   "source": [
    "# Ajout marqueurs parcelles avec valeurs de peuplement\n",
    "for nom, date, lat, lon, peuplement in zip(donnees_ppm_groupees[\"parcelle\"], donnees_ppm_groupees[\"date\"], donnees_ppm_groupees[\"latitude_GPS\"], donnees_ppm_groupees[\"longitude_GPS\"], donnees_ppm_groupees[\"peuplement\"]):\n",
    "    folium.CircleMarker(\n",
    "        location=[lat, lon],\n",
    "        radius= int(peuplement) / 3000,\n",
    "        popup=f\"Parcelle: {nom} \\nPeuplement: {peuplement} \\nDate: {date}\",\n",
    "        color='crimson',\n",
    "        fill=True,\n",
    "        fill_color='crimson'\n",
    "    ).add_to(peuplement_layer)"
   ]
  },
  {
   "attachments": {},
   "cell_type": "markdown",
   "metadata": {},
   "source": [
    "### Couche des NDVI"
   ]
  },
  {
   "cell_type": "code",
   "execution_count": 556,
   "metadata": {},
   "outputs": [],
   "source": [
    "donnees_ndvi_groupees = donnees_ndvi_groupees.merge(donnees_ppm_groupees[['parcelle', 'region']], on='parcelle')"
   ]
  },
  {
   "cell_type": "code",
   "execution_count": 557,
   "metadata": {},
   "outputs": [
    {
     "name": "stdout",
     "output_type": "stream",
     "text": [
      "   region     ndvi_moy\n",
      "0       0  4934.677937\n",
      "1       1  3709.352980\n",
      "2       2  4207.569769\n",
      "3       3  4718.363095\n"
     ]
    }
   ],
   "source": [
    "ndvi_moyen_par_region = donnees_ndvi_groupees.groupby(\"region\")[\"ndvi_moy\"].mean().reset_index()\n",
    "print(ndvi_moyen_par_region)"
   ]
  },
  {
   "cell_type": "code",
   "execution_count": 558,
   "metadata": {},
   "outputs": [],
   "source": [
    "# Définir la palette de couleurs en fonction du peuplement moyen\n",
    "ndvi_min = ndvi_moyen_par_region['ndvi_moy'].min()\n",
    "ndvi_max = ndvi_moyen_par_region['ndvi_moy'].max()\n",
    "norm1 = colors.Normalize(vmin=ndvi_min, vmax=ndvi_max)\n",
    "mapper1 = cm.ScalarMappable(norm=norm1, cmap='Blues')"
   ]
  },
  {
   "cell_type": "code",
   "execution_count": 559,
   "metadata": {},
   "outputs": [],
   "source": [
    "for region, ndvi in zip(ndvi_moyen_par_region[\"region\"], ndvi_moyen_par_region[\"ndvi_moy\"]):\n",
    "\tcolor = mapper1.to_rgba(ndvi)\n",
    "\tfolium.Circle(\n",
    "\t\tlocation=centres[region],\n",
    "\t\tradius=ndvi*15,\n",
    "\t\tpopup=f\"Région: {region}\\n NDVI moyen: {ndvi}\",\n",
    "\t\tcolor=color,\n",
    "\t\tfill=True,\n",
    "\t\tfill_color=color\n",
    "\t).add_to(ndvi_layer)"
   ]
  },
  {
   "cell_type": "code",
   "execution_count": 560,
   "metadata": {},
   "outputs": [],
   "source": [
    "# Ajout marqueurs parcelles avec valeurs de NDVI\n",
    "for nom, date, ndvi, lat, lon in zip(donnees_ndvi_groupees[\"parcelle\"], donnees_ndvi_groupees[\"annee\"], donnees_ndvi_groupees[\"ndvi_moy\"], donnees_ndvi_groupees[\"latitude_GPS\"], donnees_ndvi_groupees[\"longitude_GPS\"]):\n",
    "    folium.CircleMarker(\n",
    "        location=[lat, lon],\n",
    "        radius= int(ndvi) / 200,\n",
    "        popup=f\"Parcelle: {nom} \\nNDVI: {ndvi} \\nAnnee: {date}\",\n",
    "        color='crimson',\n",
    "        fill=True,\n",
    "        fill_color='crimson'\n",
    "    ).add_to(ndvi_layer)"
   ]
  },
  {
   "attachments": {},
   "cell_type": "markdown",
   "metadata": {},
   "source": [
    "### Géneration de la carte"
   ]
  },
  {
   "cell_type": "code",
   "execution_count": 561,
   "metadata": {},
   "outputs": [
    {
     "data": {
      "text/plain": [
       "<folium.map.FeatureGroup at 0x7fccb597cf40>"
      ]
     },
     "execution_count": 561,
     "metadata": {},
     "output_type": "execute_result"
    }
   ],
   "source": [
    "peuplement_layer.add_to(carte)\n",
    "ndvi_layer.add_to(carte)"
   ]
  },
  {
   "cell_type": "code",
   "execution_count": 562,
   "metadata": {},
   "outputs": [
    {
     "data": {
      "text/plain": [
       "<folium.plugins.groupedlayercontrol.GroupedLayerControl at 0x7fccb5aa70a0>"
      ]
     },
     "execution_count": 562,
     "metadata": {},
     "output_type": "execute_result"
    }
   ],
   "source": [
    "grouped_layers = {\n",
    "\"Couche\": [peuplement_layer, ndvi_layer]\n",
    "}\n",
    "\n",
    "GroupedLayerControl(name='Couches', groups=grouped_layers).add_to(carte)"
   ]
  },
  {
   "cell_type": "code",
   "execution_count": 563,
   "metadata": {},
   "outputs": [],
   "source": [
    "# Enregistrer la carte dans un fichier HTML\n",
    "i = 1\n",
    "while os.path.exists(f\"{directory}/carte{i}.html\"):\n",
    "    i += 1\n",
    "carte.save(f\"carte{i}.html\")"
   ]
  },
  {
   "attachments": {},
   "cell_type": "markdown",
   "metadata": {},
   "source": [
    "## Analyses statistiques"
   ]
  },
  {
   "cell_type": "code",
   "execution_count": 564,
   "metadata": {},
   "outputs": [
    {
     "data": {
      "image/png": "[encoded data removed]",
      "text/plain": [
       "<Figure size 640x480 with 1 Axes>"
      ]
     },
     "metadata": {},
     "output_type": "display_data"
    }
   ],
   "source": [
    "#Boxplot peuplement\n",
    "\n",
    "sns.boxplot(x='region', y='peuplement', data=donnees_ppm_groupees)\n",
    "plt.show()"
   ]
  },
  {
   "cell_type": "code",
   "execution_count": 565,
   "metadata": {},
   "outputs": [
    {
     "data": {
      "image/png": "[encoded data removed]",
      "text/plain": [
       "<Figure size 640x480 with 1 Axes>"
      ]
     },
     "metadata": {},
     "output_type": "display_data"
    }
   ],
   "source": [
    "#Boxplot NDVI\n",
    "\n",
    "sns.boxplot(x='region', y='ndvi_moy', data=donnees_ndvi_groupees)\n",
    "plt.show()"
   ]
  }
 ],
 "metadata": {
  "kernelspec": {
   "display_name": "base",
   "language": "python",
   "name": "python3"
  },
  "language_info": {
   "codemirror_mode": {
    "name": "ipython",
    "version": 3
   },
   "file_extension": ".py",
   "mimetype": "text/x-python",
   "name": "python",
   "nbconvert_exporter": "python",
   "pygments_lexer": "ipython3",
   "version": "3.9.13"
  },
  "orig_nbformat": 4,
  "vscode": {
   "interpreter": {
    "hash": "67d1bc666db819c5d4531cfbb2a45e55ecf4b175539248574842460daf230290"
   }
  }
 },
 "nbformat": 4,
 "nbformat_minor": 2
}
